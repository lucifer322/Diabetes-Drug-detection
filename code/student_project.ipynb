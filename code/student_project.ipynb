{
 "cells": [
  {
   "cell_type": "markdown",
   "metadata": {},
   "source": [
    "# Overview"
   ]
  },
  {
   "cell_type": "markdown",
   "metadata": {},
   "source": [
    "1. Project Instructions & Prerequisites\n",
    "2. Learning Objectives\n",
    "3. Data Preparation\n",
    "4. Create Categorical Features with TF Feature Columns\n",
    "5. Create Continuous/Numerical Features with TF Feature Columns\n",
    "6. Build Deep Learning Regression Model with Sequential API and TF Probability Layers\n",
    "7. Evaluating Potential Model Biases with Aequitas Toolkit\n"
   ]
  },
  {
   "cell_type": "markdown",
   "metadata": {},
   "source": [
    "#  1. Project Instructions & Prerequisites"
   ]
  },
  {
   "cell_type": "markdown",
   "metadata": {},
   "source": [
    "## Project Instructions"
   ]
  },
  {
   "cell_type": "markdown",
   "metadata": {},
   "source": [
    "**Context**: EHR data is becoming a key source of real-world evidence (RWE) for the pharmaceutical industry and regulators to [make decisions on clinical trials](https://www.fda.gov/news-events/speeches-fda-officials/breaking-down-barriers-between-clinical-trials-and-clinical-care-incorporating-real-world-evidence). You are a data scientist for an exciting unicorn healthcare startup that has created a groundbreaking diabetes drug that is ready for clinical trial testing. It is a very unique and sensitive drug that requires administering the drug over at least 5-7 days of time in the hospital with frequent monitoring/testing and patient medication adherence training with a mobile application. You have been provided a patient dataset from a client partner and are tasked with building a predictive model that can identify which type of patients the company should focus their efforts testing this drug on. Target patients are people that are likely to be in the hospital for this duration of time and will not incur significant additional costs for administering this drug to the patient and monitoring.  \n",
    "\n",
    "In order to achieve your goal you must build a regression model that can predict the estimated hospitalization time for a patient and use this to select/filter patients for your study.\n"
   ]
  },
  {
   "cell_type": "markdown",
   "metadata": {},
   "source": [
    "**Expected Hospitalization Time Regression Model:** Utilizing a synthetic dataset(denormalized at the line level augmentation) built off of the UCI Diabetes readmission dataset, students will build a regression model that predicts the expected days of hospitalization time and then convert this to a binary prediction of whether to include or exclude that patient from the clinical trial.\n",
    "\n",
    "This project will demonstrate the importance of building the right data representation at the encounter level, with appropriate filtering and preprocessing/feature engineering of key medical code sets. This project will also require students to analyze and interpret their model for biases across key demographic groups. \n",
    "\n",
    "Please see the project rubric online for more details on the areas your project will be evaluated."
   ]
  },
  {
   "cell_type": "markdown",
   "metadata": {},
   "source": [
    "### Dataset"
   ]
  },
  {
   "cell_type": "markdown",
   "metadata": {},
   "source": [
    "Due to healthcare PHI regulations (HIPAA, HITECH), there are limited number of publicly available datasets and some datasets require training and approval. So, for the purpose of this exercise, we are using a dataset from UC Irvine(https://archive.ics.uci.edu/ml/datasets/Diabetes+130-US+hospitals+for+years+1999-2008) that has been modified for this course. Please note that it is limited in its representation of some key features such as diagnosis codes which are usually an unordered list in 835s/837s (the HL7 standard interchange formats used for claims and remits)."
   ]
  },
  {
   "cell_type": "markdown",
   "metadata": {},
   "source": [
    "**Data Schema**\n",
    "The dataset reference information can be https://github.com/udacity/nd320-c1-emr-data-starter/blob/master/project/data_schema_references/\n",
    ". There are two CSVs that provide more details on the fields and some of the mapped values."
   ]
  },
  {
   "cell_type": "markdown",
   "metadata": {},
   "source": [
    "## Project Submission "
   ]
  },
  {
   "cell_type": "markdown",
   "metadata": {},
   "source": [
    "When submitting this project, make sure to run all the cells before saving the notebook. Save the notebook file as \"student_project_submission.ipynb\" and save another copy as an HTML file by clicking \"File\" -> \"Download as..\"->\"html\". Include the \"utils.py\" and \"student_utils.py\" files in your submission. The student_utils.py should be where you put most of your code that you write and the summary and text explanations should be written inline in the notebook. Once you download these files, compress them into one zip file for submission."
   ]
  },
  {
   "cell_type": "markdown",
   "metadata": {},
   "source": [
    "## Prerequisites "
   ]
  },
  {
   "cell_type": "markdown",
   "metadata": {},
   "source": [
    "- Intermediate level knowledge of Python\n",
    "- Basic knowledge of probability and statistics\n",
    "- Basic knowledge of machine learning concepts\n",
    "- Installation of Tensorflow 2.0 and other dependencies(conda environment.yml or virtualenv requirements.txt file provided)"
   ]
  },
  {
   "cell_type": "markdown",
   "metadata": {},
   "source": [
    "## Environment Setup"
   ]
  },
  {
   "cell_type": "markdown",
   "metadata": {},
   "source": [
    "For step by step instructions on creating your environment, please go to https://github.com/udacity/nd320-c1-emr-data-starter/blob/master/project/README.md."
   ]
  },
  {
   "cell_type": "markdown",
   "metadata": {},
   "source": [
    "# 2.  Learning Objectives"
   ]
  },
  {
   "cell_type": "markdown",
   "metadata": {},
   "source": [
    "By the end of the project, you will be able to \n",
    "   - Use the Tensorflow Dataset API to scalably extract, transform, and load datasets and build datasets aggregated at the line, encounter, and patient data levels(longitudinal)\n",
    "   - Analyze EHR datasets to check for common issues (data leakage, statistical properties, missing values, high cardinality) by performing exploratory data analysis.\n",
    "   - Create categorical features from Key Industry Code Sets (ICD, CPT, NDC) and reduce dimensionality for high cardinality features by using embeddings \n",
    "   - Create derived features(bucketing, cross-features, embeddings) utilizing Tensorflow feature columns on both continuous and categorical input features\n",
    "   - SWBAT use the Tensorflow Probability library to train a model that provides uncertainty range predictions that allow for risk adjustment/prioritization and triaging of predictions\n",
    "   - Analyze and determine biases for a model for key demographic groups by evaluating performance metrics across groups by using the Aequitas framework \n"
   ]
  },
  {
   "cell_type": "markdown",
   "metadata": {},
   "source": [
    "# 3. Data Preparation"
   ]
  },
  {
   "cell_type": "code",
   "execution_count": 1,
   "metadata": {},
   "outputs": [],
   "source": [
    "# from __future__ import absolute_import, division, print_function, unicode_literals\n",
    "import os\n",
    "import numpy as np\n",
    "import seaborn as sns\n",
    "import tensorflow as tf\n",
    "from tensorflow.keras import layers\n",
    "import tensorflow_probability as tfp\n",
    "import matplotlib.pyplot as plt\n",
    "import pandas as pd\n",
    "import aequitas as ae\n",
    "from sklearn.metrics import roc_auc_score, accuracy_score, f1_score, classification_report, precision_score, recall_score\n",
    "# Put all of the helper functions in utils\n",
    "from utils import build_vocab_files, show_group_stats_viz, aggregate_dataset, preprocess_df, df_to_dataset, posterior_mean_field, prior_trainable\n",
    "from functools import partial\n",
    "pd.set_option('display.max_columns', 500)\n",
    "# this allows you to make changes and save in student_utils.py and the file is reloaded every time you run a code block\n",
    "%load_ext autoreload\n",
    "%autoreload"
   ]
  },
  {
   "cell_type": "code",
   "execution_count": 2,
   "metadata": {},
   "outputs": [],
   "source": [
    "#OPEN ISSUE ON MAC OSX for TF model training\n",
    "import os\n",
    "os.environ['KMP_DUPLICATE_LIB_OK']='True'"
   ]
  },
  {
   "cell_type": "markdown",
   "metadata": {},
   "source": [
    "## Dataset Loading and Schema Review"
   ]
  },
  {
   "cell_type": "markdown",
   "metadata": {},
   "source": [
    "Load the dataset and view a sample of the dataset along with reviewing the schema reference files to gain a deeper understanding of the dataset. The dataset is located at the following path https://github.com/udacity/nd320-c1-emr-data-starter/blob/master/project/starter_code/data/final_project_dataset.csv. Also, review the information found in the data schema https://github.com/udacity/nd320-c1-emr-data-starter/blob/master/project/data_schema_references/"
   ]
  },
  {
   "cell_type": "code",
   "execution_count": 3,
   "metadata": {},
   "outputs": [],
   "source": [
    "dataset_path = \"./data/final_project_dataset.csv\"\n",
    "df = pd.read_csv(dataset_path)"
   ]
  },
  {
   "cell_type": "code",
   "execution_count": 4,
   "metadata": {},
   "outputs": [
    {
     "name": "stdout",
     "output_type": "stream",
     "text": [
      "Dataset could be at the line level\n"
     ]
    }
   ],
   "source": [
    "# Line Test\n",
    "try:\n",
    "    assert len(df) > df['encounter_id'].nunique() \n",
    "    print(\"Dataset could be at the line level\")\n",
    "except:\n",
    "    print(\"Dataset is not at the line level\")"
   ]
  },
  {
   "cell_type": "markdown",
   "metadata": {},
   "source": [
    "## Determine Level of Dataset (Line or Encounter)"
   ]
  },
  {
   "cell_type": "markdown",
   "metadata": {},
   "source": [
    "**Question 1**: Based off of analysis of the data, what level is this dataset? Is it at the line or encounter level? Are there any key fields besides the encounter_id and patient_nbr fields that we should use to aggregate on? Knowing this information will help inform us what level of aggregation is necessary for future steps and is a step that is often overlooked. "
   ]
  },
  {
   "cell_type": "markdown",
   "metadata": {},
   "source": [
    "**Student Response** : The dataset is at line level and needs to be converted to encounter level. The dataset should be aggregated on encounter_id, patient_nbr and principal_diagnosis_code."
   ]
  },
  {
   "cell_type": "markdown",
   "metadata": {},
   "source": [
    "## Analyze Dataset"
   ]
  },
  {
   "cell_type": "markdown",
   "metadata": {},
   "source": [
    "**Question 2**: Utilizing the library of your choice (recommend Pandas and Seaborn or matplotlib though), perform exploratory data analysis on the dataset. In particular be sure to address the following questions:  \n",
    "    - a. Field(s) with high amount of missing/zero values\n",
    "    - b. Based off the frequency histogram for each numerical field, which numerical field(s) has/have a Gaussian(normal) distribution shape?\n",
    "    - c. Which field(s) have high cardinality and why (HINT: ndc_code is one feature)\n",
    "    - d. Please describe the demographic distributions in the dataset for the age and gender fields.\n",
    "    \n"
   ]
  },
  {
   "cell_type": "markdown",
   "metadata": {},
   "source": [
    "**OPTIONAL**: Use the Tensorflow Data Validation and Analysis library to complete. \n",
    "- The Tensorflow Data Validation and Analysis library(https://www.tensorflow.org/tfx/data_validation/get_started) is a useful tool for analyzing and summarizing dataset statistics. It is especially useful because it can scale to large datasets that do not fit into memory. \n",
    "- Note that there are some bugs that are still being resolved with Chrome v80 and we have moved away from using this for the project. "
   ]
  },
  {
   "cell_type": "markdown",
   "metadata": {},
   "source": [
    "**Student Response**: \n",
    "\n",
    "1. Fields with high amount of missing/null values are:\n",
    "   *weight, payer_code, medical_speciality, number_outpatients, number_inpatients, number_emergency, num_procedures, ndc_codes.*\n",
    "1. Numerical values having Gaussian Distribution are: *num_lab_procedures, number_medication.*\n",
    "1. Fields having high cardinality are: *encounter_id, patient_nbr, other_diagnosis_codes.* It is because there there are 71,518 patients and more than 1 Lac encounters in the dataset and each encounter have various diagnoisis codes. This can also be reviewed by looking the Tensorflow Data Validation statistics.\n",
    "1. Demographic distributions is shown below."
   ]
  },
  {
   "cell_type": "code",
   "execution_count": 48,
   "metadata": {},
   "outputs": [
    {
     "data": {
      "text/html": [
       "<div>\n",
       "<style scoped>\n",
       "    .dataframe tbody tr th:only-of-type {\n",
       "        vertical-align: middle;\n",
       "    }\n",
       "\n",
       "    .dataframe tbody tr th {\n",
       "        vertical-align: top;\n",
       "    }\n",
       "\n",
       "    .dataframe thead th {\n",
       "        text-align: right;\n",
       "    }\n",
       "</style>\n",
       "<table border=\"1\" class=\"dataframe\">\n",
       "  <thead>\n",
       "    <tr style=\"text-align: right;\">\n",
       "      <th></th>\n",
       "      <th>percent_null</th>\n",
       "      <th>percent_zero</th>\n",
       "      <th>percent_missing</th>\n",
       "    </tr>\n",
       "  </thead>\n",
       "  <tbody>\n",
       "    <tr>\n",
       "      <th>encounter_id</th>\n",
       "      <td>0.00000</td>\n",
       "      <td>0.000000</td>\n",
       "      <td>0.000000</td>\n",
       "    </tr>\n",
       "    <tr>\n",
       "      <th>patient_nbr</th>\n",
       "      <td>0.00000</td>\n",
       "      <td>0.000000</td>\n",
       "      <td>0.000000</td>\n",
       "    </tr>\n",
       "    <tr>\n",
       "      <th>race</th>\n",
       "      <td>0.00000</td>\n",
       "      <td>0.000000</td>\n",
       "      <td>2.307145</td>\n",
       "    </tr>\n",
       "    <tr>\n",
       "      <th>gender</th>\n",
       "      <td>0.00000</td>\n",
       "      <td>0.000000</td>\n",
       "      <td>0.003486</td>\n",
       "    </tr>\n",
       "    <tr>\n",
       "      <th>age</th>\n",
       "      <td>0.00000</td>\n",
       "      <td>0.000000</td>\n",
       "      <td>0.000000</td>\n",
       "    </tr>\n",
       "    <tr>\n",
       "      <th>weight</th>\n",
       "      <td>0.00000</td>\n",
       "      <td>0.000000</td>\n",
       "      <td>97.000502</td>\n",
       "    </tr>\n",
       "    <tr>\n",
       "      <th>admission_type_id</th>\n",
       "      <td>0.00000</td>\n",
       "      <td>0.000000</td>\n",
       "      <td>0.000000</td>\n",
       "    </tr>\n",
       "    <tr>\n",
       "      <th>discharge_disposition_id</th>\n",
       "      <td>0.00000</td>\n",
       "      <td>0.000000</td>\n",
       "      <td>0.000000</td>\n",
       "    </tr>\n",
       "    <tr>\n",
       "      <th>admission_source_id</th>\n",
       "      <td>0.00000</td>\n",
       "      <td>0.000000</td>\n",
       "      <td>0.000000</td>\n",
       "    </tr>\n",
       "    <tr>\n",
       "      <th>time_in_hospital</th>\n",
       "      <td>0.00000</td>\n",
       "      <td>0.000000</td>\n",
       "      <td>0.000000</td>\n",
       "    </tr>\n",
       "    <tr>\n",
       "      <th>payer_code</th>\n",
       "      <td>0.00000</td>\n",
       "      <td>0.000000</td>\n",
       "      <td>37.783077</td>\n",
       "    </tr>\n",
       "    <tr>\n",
       "      <th>medical_specialty</th>\n",
       "      <td>0.00000</td>\n",
       "      <td>0.000000</td>\n",
       "      <td>48.431922</td>\n",
       "    </tr>\n",
       "    <tr>\n",
       "      <th>primary_diagnosis_code</th>\n",
       "      <td>0.00000</td>\n",
       "      <td>0.000000</td>\n",
       "      <td>0.023009</td>\n",
       "    </tr>\n",
       "    <tr>\n",
       "      <th>other_diagnosis_codes</th>\n",
       "      <td>0.00000</td>\n",
       "      <td>0.000000</td>\n",
       "      <td>0.237059</td>\n",
       "    </tr>\n",
       "    <tr>\n",
       "      <th>number_outpatient</th>\n",
       "      <td>0.00000</td>\n",
       "      <td>83.686831</td>\n",
       "      <td>0.000000</td>\n",
       "    </tr>\n",
       "    <tr>\n",
       "      <th>number_inpatient</th>\n",
       "      <td>0.00000</td>\n",
       "      <td>67.421073</td>\n",
       "      <td>0.000000</td>\n",
       "    </tr>\n",
       "    <tr>\n",
       "      <th>number_emergency</th>\n",
       "      <td>0.00000</td>\n",
       "      <td>88.858211</td>\n",
       "      <td>0.000000</td>\n",
       "    </tr>\n",
       "    <tr>\n",
       "      <th>num_lab_procedures</th>\n",
       "      <td>0.00000</td>\n",
       "      <td>0.000000</td>\n",
       "      <td>0.000000</td>\n",
       "    </tr>\n",
       "    <tr>\n",
       "      <th>number_diagnoses</th>\n",
       "      <td>0.00000</td>\n",
       "      <td>0.000000</td>\n",
       "      <td>0.000000</td>\n",
       "    </tr>\n",
       "    <tr>\n",
       "      <th>num_medications</th>\n",
       "      <td>0.00000</td>\n",
       "      <td>0.000000</td>\n",
       "      <td>0.000000</td>\n",
       "    </tr>\n",
       "    <tr>\n",
       "      <th>num_procedures</th>\n",
       "      <td>0.00000</td>\n",
       "      <td>45.869589</td>\n",
       "      <td>0.000000</td>\n",
       "    </tr>\n",
       "    <tr>\n",
       "      <th>ndc_code</th>\n",
       "      <td>16.35849</td>\n",
       "      <td>0.000000</td>\n",
       "      <td>0.000000</td>\n",
       "    </tr>\n",
       "    <tr>\n",
       "      <th>max_glu_serum</th>\n",
       "      <td>0.00000</td>\n",
       "      <td>0.000000</td>\n",
       "      <td>0.000000</td>\n",
       "    </tr>\n",
       "    <tr>\n",
       "      <th>A1Cresult</th>\n",
       "      <td>0.00000</td>\n",
       "      <td>0.000000</td>\n",
       "      <td>0.000000</td>\n",
       "    </tr>\n",
       "    <tr>\n",
       "      <th>change</th>\n",
       "      <td>0.00000</td>\n",
       "      <td>0.000000</td>\n",
       "      <td>0.000000</td>\n",
       "    </tr>\n",
       "    <tr>\n",
       "      <th>readmitted</th>\n",
       "      <td>0.00000</td>\n",
       "      <td>0.000000</td>\n",
       "      <td>0.000000</td>\n",
       "    </tr>\n",
       "    <tr>\n",
       "      <th>generic_drug_name</th>\n",
       "      <td>16.35849</td>\n",
       "      <td>0.000000</td>\n",
       "      <td>0.000000</td>\n",
       "    </tr>\n",
       "  </tbody>\n",
       "</table>\n",
       "</div>"
      ],
      "text/plain": [
       "                          percent_null  percent_zero  percent_missing\n",
       "encounter_id              0.00000       0.000000      0.000000       \n",
       "patient_nbr               0.00000       0.000000      0.000000       \n",
       "race                      0.00000       0.000000      2.307145       \n",
       "gender                    0.00000       0.000000      0.003486       \n",
       "age                       0.00000       0.000000      0.000000       \n",
       "weight                    0.00000       0.000000      97.000502      \n",
       "admission_type_id         0.00000       0.000000      0.000000       \n",
       "discharge_disposition_id  0.00000       0.000000      0.000000       \n",
       "admission_source_id       0.00000       0.000000      0.000000       \n",
       "time_in_hospital          0.00000       0.000000      0.000000       \n",
       "payer_code                0.00000       0.000000      37.783077      \n",
       "medical_specialty         0.00000       0.000000      48.431922      \n",
       "primary_diagnosis_code    0.00000       0.000000      0.023009       \n",
       "other_diagnosis_codes     0.00000       0.000000      0.237059       \n",
       "number_outpatient         0.00000       83.686831     0.000000       \n",
       "number_inpatient          0.00000       67.421073     0.000000       \n",
       "number_emergency          0.00000       88.858211     0.000000       \n",
       "num_lab_procedures        0.00000       0.000000      0.000000       \n",
       "number_diagnoses          0.00000       0.000000      0.000000       \n",
       "num_medications           0.00000       0.000000      0.000000       \n",
       "num_procedures            0.00000       45.869589     0.000000       \n",
       "ndc_code                  16.35849      0.000000      0.000000       \n",
       "max_glu_serum             0.00000       0.000000      0.000000       \n",
       "A1Cresult                 0.00000       0.000000      0.000000       \n",
       "change                    0.00000       0.000000      0.000000       \n",
       "readmitted                0.00000       0.000000      0.000000       \n",
       "generic_drug_name         16.35849      0.000000      0.000000       "
      ]
     },
     "execution_count": 48,
     "metadata": {},
     "output_type": "execute_result"
    }
   ],
   "source": [
    "def check_null_df(df):\n",
    "    return pd.DataFrame({\n",
    "        'percent_null' : df.isna().sum() / len(df) * 100,\n",
    "        'percent_zero' : df.isin([0]).sum() / len(df) * 100,\n",
    "        'percent_missing' : df.isin(['?', '?|?', 'Unknown/Invalid']).sum() / len(df) * 100,\n",
    "    })\n",
    "check_null_df(df)"
   ]
  },
  {
   "cell_type": "code",
   "execution_count": 6,
   "metadata": {},
   "outputs": [
    {
     "data": {
      "text/plain": [
       "<matplotlib.axes._subplots.AxesSubplot at 0x7f8017c62950>"
      ]
     },
     "execution_count": 6,
     "metadata": {},
     "output_type": "execute_result"
    },
    {
     "data": {
      "image/png": "[encoded data removed]",
      "text/plain": [
       "<Figure size 576x360 with 1 Axes>"
      ]
     },
     "metadata": {
      "needs_background": "light"
     },
     "output_type": "display_data"
    }
   ],
   "source": [
    "plt.figure(figsize=(8, 5))\n",
    "sns.countplot(x = 'age', data = df)"
   ]
  },
  {
   "cell_type": "code",
   "execution_count": 7,
   "metadata": {},
   "outputs": [
    {
     "data": {
      "text/plain": [
       "<matplotlib.axes._subplots.AxesSubplot at 0x7f8013b3d6d0>"
      ]
     },
     "execution_count": 7,
     "metadata": {},
     "output_type": "execute_result"
    },
    {
     "data": {
      "image/png": "[encoded data removed]",
      "text/plain": [
       "<Figure size 576x360 with 1 Axes>"
      ]
     },
     "metadata": {
      "needs_background": "light"
     },
     "output_type": "display_data"
    }
   ],
   "source": [
    "plt.figure(figsize=(8, 5))\n",
    "sns.countplot(x = 'gender', data = df)"
   ]
  },
  {
   "cell_type": "code",
   "execution_count": 8,
   "metadata": {},
   "outputs": [
    {
     "data": {
      "text/plain": [
       "<matplotlib.axes._subplots.AxesSubplot at 0x7f8013a7ad90>"
      ]
     },
     "execution_count": 8,
     "metadata": {},
     "output_type": "execute_result"
    },
    {
     "data": {
      "image/png": "[encoded data removed]",
      "text/plain": [
       "<Figure size 576x360 with 1 Axes>"
      ]
     },
     "metadata": {
      "needs_background": "light"
     },
     "output_type": "display_data"
    }
   ],
   "source": [
    "plt.figure(figsize=(8, 5))\n",
    "sns.countplot(x = 'age', hue = 'gender', data = df)"
   ]
  },
  {
   "cell_type": "code",
   "execution_count": 9,
   "metadata": {},
   "outputs": [
    {
     "data": {
      "text/plain": [
       "<matplotlib.axes._subplots.AxesSubplot at 0x7f801398ce50>"
      ]
     },
     "execution_count": 9,
     "metadata": {},
     "output_type": "execute_result"
    },
    {
     "data": {
      "image/png": "[encoded data removed]",
      "text/plain": [
       "<Figure size 576x360 with 1 Axes>"
      ]
     },
     "metadata": {
      "needs_background": "light"
     },
     "output_type": "display_data"
    }
   ],
   "source": [
    "plt.figure(figsize=(8, 5))\n",
    "sns.distplot(df['num_lab_procedures'])"
   ]
  },
  {
   "cell_type": "code",
   "execution_count": 10,
   "metadata": {},
   "outputs": [
    {
     "data": {
      "text/plain": [
       "<matplotlib.axes._subplots.AxesSubplot at 0x7f801388c150>"
      ]
     },
     "execution_count": 10,
     "metadata": {},
     "output_type": "execute_result"
    },
    {
     "data": {
      "image/png": "[encoded data removed]",
      "text/plain": [
       "<Figure size 576x360 with 1 Axes>"
      ]
     },
     "metadata": {
      "needs_background": "light"
     },
     "output_type": "display_data"
    }
   ],
   "source": [
    "plt.figure(figsize=(8, 5))\n",
    "sns.distplot(df['num_medications'])"
   ]
  },
  {
   "cell_type": "code",
   "execution_count": 11,
   "metadata": {},
   "outputs": [
    {
     "name": "stderr",
     "output_type": "stream",
     "text": [
      "/opt/conda/lib/python3.7/site-packages/tensorflow_data_validation/arrow/arrow_util.py:236: FutureWarning: Calling .data on ChunkedArray is provided for compatibility after Column was removed, simply drop this attribute\n",
      "  types.FeaturePath([column_name]), column.data.chunk(0), weights):\n"
     ]
    }
   ],
   "source": [
    "######NOTE: The visualization will only display in Chrome browser. ########\n",
    "# First install below libraries and then restart the kernel to visualize.\n",
    "\n",
    "# !pip install tensorflow-data-validation\n",
    "# !pip install apache-beam[interactive]\n",
    "import tensorflow_data_validation as tfdv\n",
    "full_data_stats = tfdv.generate_statistics_from_dataframe(dataframe=df) "
   ]
  },
  {
   "cell_type": "code",
   "execution_count": 45,
   "metadata": {},
   "outputs": [
    {
     "data": {
      "text/html": [
       "<iframe id='facets-iframe' width=\"100%\" height=\"500px\"></iframe>\n",
       "        <script>\n",
       "        facets_iframe = document.getElementById('facets-iframe');\n",
       "        facets_html = '<script src=\"https://cdnjs.cloudflare.com/ajax/libs/webcomponentsjs/1.3.3/webcomponents-lite.js\"><\\/script><link rel=\"import\" href=\"https://raw.githubusercontent.com/PAIR-code/facets/master/facets-dist/facets-jupyter.html\"><facets-overview proto-input=\"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\"></facets-overview>';\n",
       "        facets_iframe.srcdoc = facets_html;\n",
       "         facets_iframe.id = \"\";\n",
       "         setTimeout(() => {\n",
       "           facets_iframe.setAttribute('height', facets_iframe.contentWindow.document.body.offsetHeight + 'px')\n",
       "         }, 1500)\n",
       "         </script>"
      ],
      "text/plain": [
       "<IPython.core.display.HTML object>"
      ]
     },
     "metadata": {},
     "output_type": "display_data"
    }
   ],
   "source": [
    "tfdv.visualize_statistics(full_data_stats)"
   ]
  },
  {
   "cell_type": "code",
   "execution_count": 13,
   "metadata": {},
   "outputs": [
    {
     "data": {
      "text/html": [
       "<div>\n",
       "<style scoped>\n",
       "    .dataframe tbody tr th:only-of-type {\n",
       "        vertical-align: middle;\n",
       "    }\n",
       "\n",
       "    .dataframe tbody tr th {\n",
       "        vertical-align: top;\n",
       "    }\n",
       "\n",
       "    .dataframe thead th {\n",
       "        text-align: right;\n",
       "    }\n",
       "</style>\n",
       "<table border=\"1\" class=\"dataframe\">\n",
       "  <thead>\n",
       "    <tr style=\"text-align: right;\">\n",
       "      <th></th>\n",
       "      <th>Type</th>\n",
       "      <th>Presence</th>\n",
       "      <th>Valency</th>\n",
       "      <th>Domain</th>\n",
       "    </tr>\n",
       "    <tr>\n",
       "      <th>Feature name</th>\n",
       "      <th></th>\n",
       "      <th></th>\n",
       "      <th></th>\n",
       "      <th></th>\n",
       "    </tr>\n",
       "  </thead>\n",
       "  <tbody>\n",
       "    <tr>\n",
       "      <th>'A1Cresult'</th>\n",
       "      <td>STRING</td>\n",
       "      <td>required</td>\n",
       "      <td></td>\n",
       "      <td>'A1Cresult'</td>\n",
       "    </tr>\n",
       "    <tr>\n",
       "      <th>'admission_source_id'</th>\n",
       "      <td>INT</td>\n",
       "      <td>required</td>\n",
       "      <td></td>\n",
       "      <td>-</td>\n",
       "    </tr>\n",
       "    <tr>\n",
       "      <th>'admission_type_id'</th>\n",
       "      <td>INT</td>\n",
       "      <td>required</td>\n",
       "      <td></td>\n",
       "      <td>-</td>\n",
       "    </tr>\n",
       "    <tr>\n",
       "      <th>'age'</th>\n",
       "      <td>STRING</td>\n",
       "      <td>required</td>\n",
       "      <td></td>\n",
       "      <td>'age'</td>\n",
       "    </tr>\n",
       "    <tr>\n",
       "      <th>'change'</th>\n",
       "      <td>STRING</td>\n",
       "      <td>required</td>\n",
       "      <td></td>\n",
       "      <td>'change'</td>\n",
       "    </tr>\n",
       "    <tr>\n",
       "      <th>'discharge_disposition_id'</th>\n",
       "      <td>INT</td>\n",
       "      <td>required</td>\n",
       "      <td></td>\n",
       "      <td>-</td>\n",
       "    </tr>\n",
       "    <tr>\n",
       "      <th>'encounter_id'</th>\n",
       "      <td>INT</td>\n",
       "      <td>required</td>\n",
       "      <td></td>\n",
       "      <td>-</td>\n",
       "    </tr>\n",
       "    <tr>\n",
       "      <th>'gender'</th>\n",
       "      <td>STRING</td>\n",
       "      <td>required</td>\n",
       "      <td></td>\n",
       "      <td>'gender'</td>\n",
       "    </tr>\n",
       "    <tr>\n",
       "      <th>'max_glu_serum'</th>\n",
       "      <td>STRING</td>\n",
       "      <td>required</td>\n",
       "      <td></td>\n",
       "      <td>'max_glu_serum'</td>\n",
       "    </tr>\n",
       "    <tr>\n",
       "      <th>'medical_specialty'</th>\n",
       "      <td>STRING</td>\n",
       "      <td>required</td>\n",
       "      <td></td>\n",
       "      <td>'medical_specialty'</td>\n",
       "    </tr>\n",
       "    <tr>\n",
       "      <th>'ndc_code'</th>\n",
       "      <td>BYTES</td>\n",
       "      <td>optional</td>\n",
       "      <td>single</td>\n",
       "      <td>-</td>\n",
       "    </tr>\n",
       "    <tr>\n",
       "      <th>'num_lab_procedures'</th>\n",
       "      <td>INT</td>\n",
       "      <td>required</td>\n",
       "      <td></td>\n",
       "      <td>-</td>\n",
       "    </tr>\n",
       "    <tr>\n",
       "      <th>'num_medications'</th>\n",
       "      <td>INT</td>\n",
       "      <td>required</td>\n",
       "      <td></td>\n",
       "      <td>-</td>\n",
       "    </tr>\n",
       "    <tr>\n",
       "      <th>'num_procedures'</th>\n",
       "      <td>INT</td>\n",
       "      <td>required</td>\n",
       "      <td></td>\n",
       "      <td>-</td>\n",
       "    </tr>\n",
       "    <tr>\n",
       "      <th>'number_diagnoses'</th>\n",
       "      <td>INT</td>\n",
       "      <td>required</td>\n",
       "      <td></td>\n",
       "      <td>-</td>\n",
       "    </tr>\n",
       "    <tr>\n",
       "      <th>'number_emergency'</th>\n",
       "      <td>INT</td>\n",
       "      <td>required</td>\n",
       "      <td></td>\n",
       "      <td>-</td>\n",
       "    </tr>\n",
       "    <tr>\n",
       "      <th>'number_inpatient'</th>\n",
       "      <td>INT</td>\n",
       "      <td>required</td>\n",
       "      <td></td>\n",
       "      <td>-</td>\n",
       "    </tr>\n",
       "    <tr>\n",
       "      <th>'number_outpatient'</th>\n",
       "      <td>INT</td>\n",
       "      <td>required</td>\n",
       "      <td></td>\n",
       "      <td>-</td>\n",
       "    </tr>\n",
       "    <tr>\n",
       "      <th>'other_diagnosis_codes'</th>\n",
       "      <td>BYTES</td>\n",
       "      <td>required</td>\n",
       "      <td></td>\n",
       "      <td>-</td>\n",
       "    </tr>\n",
       "    <tr>\n",
       "      <th>'patient_nbr'</th>\n",
       "      <td>INT</td>\n",
       "      <td>required</td>\n",
       "      <td></td>\n",
       "      <td>-</td>\n",
       "    </tr>\n",
       "    <tr>\n",
       "      <th>'payer_code'</th>\n",
       "      <td>STRING</td>\n",
       "      <td>required</td>\n",
       "      <td></td>\n",
       "      <td>'payer_code'</td>\n",
       "    </tr>\n",
       "    <tr>\n",
       "      <th>'primary_diagnosis_code'</th>\n",
       "      <td>BYTES</td>\n",
       "      <td>required</td>\n",
       "      <td></td>\n",
       "      <td>-</td>\n",
       "    </tr>\n",
       "    <tr>\n",
       "      <th>'race'</th>\n",
       "      <td>STRING</td>\n",
       "      <td>required</td>\n",
       "      <td></td>\n",
       "      <td>'race'</td>\n",
       "    </tr>\n",
       "    <tr>\n",
       "      <th>'readmitted'</th>\n",
       "      <td>STRING</td>\n",
       "      <td>required</td>\n",
       "      <td></td>\n",
       "      <td>'readmitted'</td>\n",
       "    </tr>\n",
       "    <tr>\n",
       "      <th>'time_in_hospital'</th>\n",
       "      <td>INT</td>\n",
       "      <td>required</td>\n",
       "      <td></td>\n",
       "      <td>-</td>\n",
       "    </tr>\n",
       "    <tr>\n",
       "      <th>'weight'</th>\n",
       "      <td>STRING</td>\n",
       "      <td>required</td>\n",
       "      <td></td>\n",
       "      <td>'weight'</td>\n",
       "    </tr>\n",
       "  </tbody>\n",
       "</table>\n",
       "</div>"
      ],
      "text/plain": [
       "                              Type  Presence Valency               Domain\n",
       "Feature name                                                             \n",
       "'A1Cresult'                 STRING  required                  'A1Cresult'\n",
       "'admission_source_id'          INT  required                            -\n",
       "'admission_type_id'            INT  required                            -\n",
       "'age'                       STRING  required                        'age'\n",
       "'change'                    STRING  required                     'change'\n",
       "'discharge_disposition_id'     INT  required                            -\n",
       "'encounter_id'                 INT  required                            -\n",
       "'gender'                    STRING  required                     'gender'\n",
       "'max_glu_serum'             STRING  required              'max_glu_serum'\n",
       "'medical_specialty'         STRING  required          'medical_specialty'\n",
       "'ndc_code'                   BYTES  optional  single                    -\n",
       "'num_lab_procedures'           INT  required                            -\n",
       "'num_medications'              INT  required                            -\n",
       "'num_procedures'               INT  required                            -\n",
       "'number_diagnoses'             INT  required                            -\n",
       "'number_emergency'             INT  required                            -\n",
       "'number_inpatient'             INT  required                            -\n",
       "'number_outpatient'            INT  required                            -\n",
       "'other_diagnosis_codes'      BYTES  required                            -\n",
       "'patient_nbr'                  INT  required                            -\n",
       "'payer_code'                STRING  required                 'payer_code'\n",
       "'primary_diagnosis_code'     BYTES  required                            -\n",
       "'race'                      STRING  required                       'race'\n",
       "'readmitted'                STRING  required                 'readmitted'\n",
       "'time_in_hospital'             INT  required                            -\n",
       "'weight'                    STRING  required                     'weight'"
      ]
     },
     "metadata": {},
     "output_type": "display_data"
    },
    {
     "data": {
      "text/html": [
       "<div>\n",
       "<style scoped>\n",
       "    .dataframe tbody tr th:only-of-type {\n",
       "        vertical-align: middle;\n",
       "    }\n",
       "\n",
       "    .dataframe tbody tr th {\n",
       "        vertical-align: top;\n",
       "    }\n",
       "\n",
       "    .dataframe thead th {\n",
       "        text-align: right;\n",
       "    }\n",
       "</style>\n",
       "<table border=\"1\" class=\"dataframe\">\n",
       "  <thead>\n",
       "    <tr style=\"text-align: right;\">\n",
       "      <th></th>\n",
       "      <th>Values</th>\n",
       "    </tr>\n",
       "    <tr>\n",
       "      <th>Domain</th>\n",
       "      <th></th>\n",
       "    </tr>\n",
       "  </thead>\n",
       "  <tbody>\n",
       "    <tr>\n",
       "      <th>'A1Cresult'</th>\n",
       "      <td>'&gt;7', '&gt;8', 'None', 'Norm'</td>\n",
       "    </tr>\n",
       "    <tr>\n",
       "      <th>'age'</th>\n",
       "      <td>'[0-10)', '[10-20)', '[20-30)', '[30-40)', '[40-50)', '[50-60)', '[60-70)', '[70-80)', '[80-90)', '[90-100)'</td>\n",
       "    </tr>\n",
       "    <tr>\n",
       "      <th>'change'</th>\n",
       "      <td>'Ch', 'No'</td>\n",
       "    </tr>\n",
       "    <tr>\n",
       "      <th>'gender'</th>\n",
       "      <td>'Female', 'Male', 'Unknown/Invalid'</td>\n",
       "    </tr>\n",
       "    <tr>\n",
       "      <th>'max_glu_serum'</th>\n",
       "      <td>'&gt;200', '&gt;300', 'None', 'Norm'</td>\n",
       "    </tr>\n",
       "    <tr>\n",
       "      <th>'medical_specialty'</th>\n",
       "      <td>'?', 'AllergyandImmunology', 'Anesthesiology', 'Anesthesiology-Pediatric', 'Cardiology', 'Cardiology-Pediatric', 'DCPTEAM', 'Dentistry', 'Dermatology', 'Emergency/Trauma', 'Endocrinology', 'Endocrinology-Metabolism', 'Family/GeneralPractice', 'Gastroenterology', 'Gynecology', 'Hematology', 'Hematology/Oncology', 'Hospitalist', 'InfectiousDiseases', 'InternalMedicine', 'Nephrology', 'Neurology', 'Neurophysiology', 'Obsterics&amp;Gynecology-GynecologicOnco', 'Obstetrics', 'ObstetricsandGynecology', 'Oncology', 'Ophthalmology', 'Orthopedics', 'Orthopedics-Reconstructive', 'Osteopath', 'Otolaryngology', 'OutreachServices', 'Pathology', 'Pediatrics', 'Pediatrics-AllergyandImmunology', 'Pediatrics-CriticalCare', 'Pediatrics-EmergencyMedicine', 'Pediatrics-Endocrinology', 'Pediatrics-Hematology-Oncology', 'Pediatrics-InfectiousDiseases', 'Pediatrics-Neurology', 'Pediatrics-Pulmonology', 'Perinatology', 'PhysicalMedicineandRehabilitation', 'PhysicianNotFound', 'Podiatry', 'Proctology', 'Psychiatry', 'Psychiatry-Addictive', 'Psychiatry-Child/Adolescent', 'Psychology', 'Pulmonology', 'Radiologist', 'Radiology', 'Resident', 'Rheumatology', 'Speech', 'SportsMedicine', 'Surgeon', 'Surgery-Cardiovascular', 'Surgery-Cardiovascular/Thoracic', 'Surgery-Colon&amp;Rectal', 'Surgery-General', 'Surgery-Maxillofacial', 'Surgery-Neuro', 'Surgery-Pediatric', 'Surgery-Plastic', 'Surgery-PlasticwithinHeadandNeck', 'Surgery-Thoracic', 'Surgery-Vascular', 'SurgicalSpecialty', 'Urology'</td>\n",
       "    </tr>\n",
       "    <tr>\n",
       "      <th>'payer_code'</th>\n",
       "      <td>'?', 'BC', 'CH', 'CM', 'CP', 'DM', 'FR', 'HM', 'MC', 'MD', 'MP', 'OG', 'OT', 'PO', 'SI', 'SP', 'UN', 'WC'</td>\n",
       "    </tr>\n",
       "    <tr>\n",
       "      <th>'race'</th>\n",
       "      <td>'?', 'AfricanAmerican', 'Asian', 'Caucasian', 'Hispanic', 'Other'</td>\n",
       "    </tr>\n",
       "    <tr>\n",
       "      <th>'readmitted'</th>\n",
       "      <td>'&lt;30', '&gt;30', 'NO'</td>\n",
       "    </tr>\n",
       "    <tr>\n",
       "      <th>'weight'</th>\n",
       "      <td>'&gt;200', '?', '[0-25)', '[100-125)', '[125-150)', '[150-175)', '[175-200)', '[25-50)', '[50-75)', '[75-100)'</td>\n",
       "    </tr>\n",
       "  </tbody>\n",
       "</table>\n",
       "</div>"
      ],
      "text/plain": [
       "                                                                                                                                                                                                                                                                                                                                                                                                                                                                                                                                                                                                                                                                                                                                                                                                                                                                                                                                                                                                                                                                                                                                                                                                                                                                                                                                                                                                                                                                                                                                                 Values\n",
       "Domain                                                                                                                                                                                                                                                                                                                                                                                                                                                                                                                                                                                                                                                                                                                                                                                                                                                                                                                                                                                                                                                                                                                                                                                                                                                                                                                                                                                                                                                                                                                                                 \n",
       "'A1Cresult'          '>7', '>8', 'None', 'Norm'                                                                                                                                                                                                                                                                                                                                                                                                                                                                                                                                                                                                                                                                                                                                                                                                                                                                                                                                                                                                                                                                                                                                                                                                                                                                                                                                                                                                                                                                                                        \n",
       "'age'                '[0-10)', '[10-20)', '[20-30)', '[30-40)', '[40-50)', '[50-60)', '[60-70)', '[70-80)', '[80-90)', '[90-100)'                                                                                                                                                                                                                                                                                                                                                                                                                                                                                                                                                                                                                                                                                                                                                                                                                                                                                                                                                                                                                                                                                                                                                                                                                                                                                                                                                                                                                      \n",
       "'change'             'Ch', 'No'                                                                                                                                                                                                                                                                                                                                                                                                                                                                                                                                                                                                                                                                                                                                                                                                                                                                                                                                                                                                                                                                                                                                                                                                                                                                                                                                                                                                                                                                                                                        \n",
       "'gender'             'Female', 'Male', 'Unknown/Invalid'                                                                                                                                                                                                                                                                                                                                                                                                                                                                                                                                                                                                                                                                                                                                                                                                                                                                                                                                                                                                                                                                                                                                                                                                                                                                                                                                                                                                                                                                                               \n",
       "'max_glu_serum'      '>200', '>300', 'None', 'Norm'                                                                                                                                                                                                                                                                                                                                                                                                                                                                                                                                                                                                                                                                                                                                                                                                                                                                                                                                                                                                                                                                                                                                                                                                                                                                                                                                                                                                                                                                                                    \n",
       "'medical_specialty'  '?', 'AllergyandImmunology', 'Anesthesiology', 'Anesthesiology-Pediatric', 'Cardiology', 'Cardiology-Pediatric', 'DCPTEAM', 'Dentistry', 'Dermatology', 'Emergency/Trauma', 'Endocrinology', 'Endocrinology-Metabolism', 'Family/GeneralPractice', 'Gastroenterology', 'Gynecology', 'Hematology', 'Hematology/Oncology', 'Hospitalist', 'InfectiousDiseases', 'InternalMedicine', 'Nephrology', 'Neurology', 'Neurophysiology', 'Obsterics&Gynecology-GynecologicOnco', 'Obstetrics', 'ObstetricsandGynecology', 'Oncology', 'Ophthalmology', 'Orthopedics', 'Orthopedics-Reconstructive', 'Osteopath', 'Otolaryngology', 'OutreachServices', 'Pathology', 'Pediatrics', 'Pediatrics-AllergyandImmunology', 'Pediatrics-CriticalCare', 'Pediatrics-EmergencyMedicine', 'Pediatrics-Endocrinology', 'Pediatrics-Hematology-Oncology', 'Pediatrics-InfectiousDiseases', 'Pediatrics-Neurology', 'Pediatrics-Pulmonology', 'Perinatology', 'PhysicalMedicineandRehabilitation', 'PhysicianNotFound', 'Podiatry', 'Proctology', 'Psychiatry', 'Psychiatry-Addictive', 'Psychiatry-Child/Adolescent', 'Psychology', 'Pulmonology', 'Radiologist', 'Radiology', 'Resident', 'Rheumatology', 'Speech', 'SportsMedicine', 'Surgeon', 'Surgery-Cardiovascular', 'Surgery-Cardiovascular/Thoracic', 'Surgery-Colon&Rectal', 'Surgery-General', 'Surgery-Maxillofacial', 'Surgery-Neuro', 'Surgery-Pediatric', 'Surgery-Plastic', 'Surgery-PlasticwithinHeadandNeck', 'Surgery-Thoracic', 'Surgery-Vascular', 'SurgicalSpecialty', 'Urology'\n",
       "'payer_code'         '?', 'BC', 'CH', 'CM', 'CP', 'DM', 'FR', 'HM', 'MC', 'MD', 'MP', 'OG', 'OT', 'PO', 'SI', 'SP', 'UN', 'WC'                                                                                                                                                                                                                                                                                                                                                                                                                                                                                                                                                                                                                                                                                                                                                                                                                                                                                                                                                                                                                                                                                                                                                                                                                                                                                                                                                                                                                         \n",
       "'race'               '?', 'AfricanAmerican', 'Asian', 'Caucasian', 'Hispanic', 'Other'                                                                                                                                                                                                                                                                                                                                                                                                                                                                                                                                                                                                                                                                                                                                                                                                                                                                                                                                                                                                                                                                                                                                                                                                                                                                                                                                                                                                                                                                 \n",
       "'readmitted'         '<30', '>30', 'NO'                                                                                                                                                                                                                                                                                                                                                                                                                                                                                                                                                                                                                                                                                                                                                                                                                                                                                                                                                                                                                                                                                                                                                                                                                                                                                                                                                                                                                                                                                                                \n",
       "'weight'             '>200', '?', '[0-25)', '[100-125)', '[125-150)', '[150-175)', '[175-200)', '[25-50)', '[50-75)', '[75-100)'                                                                                                                                                                                                                                                                                                                                                                                                                                                                                                                                                                                                                                                                                                                                                                                                                                                                                                                                                                                                                                                                                                                                                                                                                                                                                                                                                                                                                       "
      ]
     },
     "metadata": {},
     "output_type": "display_data"
    }
   ],
   "source": [
    "schema = tfdv.infer_schema(statistics=full_data_stats)\n",
    "tfdv.display_schema(schema=schema)"
   ]
  },
  {
   "cell_type": "code",
   "execution_count": 14,
   "metadata": {},
   "outputs": [
    {
     "data": {
      "text/html": [
       "<div>\n",
       "<style scoped>\n",
       "    .dataframe tbody tr th:only-of-type {\n",
       "        vertical-align: middle;\n",
       "    }\n",
       "\n",
       "    .dataframe tbody tr th {\n",
       "        vertical-align: top;\n",
       "    }\n",
       "\n",
       "    .dataframe thead th {\n",
       "        text-align: right;\n",
       "    }\n",
       "</style>\n",
       "<table border=\"1\" class=\"dataframe\">\n",
       "  <thead>\n",
       "    <tr style=\"text-align: right;\">\n",
       "      <th></th>\n",
       "      <th>columns</th>\n",
       "      <th>cardinality</th>\n",
       "    </tr>\n",
       "  </thead>\n",
       "  <tbody>\n",
       "    <tr>\n",
       "      <th>0</th>\n",
       "      <td>encounter_id</td>\n",
       "      <td>101766</td>\n",
       "    </tr>\n",
       "    <tr>\n",
       "      <th>1</th>\n",
       "      <td>patient_nbr</td>\n",
       "      <td>71518</td>\n",
       "    </tr>\n",
       "    <tr>\n",
       "      <th>13</th>\n",
       "      <td>other_diagnosis_codes</td>\n",
       "      <td>19374</td>\n",
       "    </tr>\n",
       "    <tr>\n",
       "      <th>12</th>\n",
       "      <td>primary_diagnosis_code</td>\n",
       "      <td>717</td>\n",
       "    </tr>\n",
       "    <tr>\n",
       "      <th>21</th>\n",
       "      <td>ndc_code</td>\n",
       "      <td>251</td>\n",
       "    </tr>\n",
       "    <tr>\n",
       "      <th>17</th>\n",
       "      <td>num_lab_procedures</td>\n",
       "      <td>118</td>\n",
       "    </tr>\n",
       "    <tr>\n",
       "      <th>19</th>\n",
       "      <td>num_medications</td>\n",
       "      <td>75</td>\n",
       "    </tr>\n",
       "    <tr>\n",
       "      <th>11</th>\n",
       "      <td>medical_specialty</td>\n",
       "      <td>73</td>\n",
       "    </tr>\n",
       "    <tr>\n",
       "      <th>14</th>\n",
       "      <td>number_outpatient</td>\n",
       "      <td>39</td>\n",
       "    </tr>\n",
       "    <tr>\n",
       "      <th>16</th>\n",
       "      <td>number_emergency</td>\n",
       "      <td>33</td>\n",
       "    </tr>\n",
       "    <tr>\n",
       "      <th>7</th>\n",
       "      <td>discharge_disposition_id</td>\n",
       "      <td>26</td>\n",
       "    </tr>\n",
       "    <tr>\n",
       "      <th>15</th>\n",
       "      <td>number_inpatient</td>\n",
       "      <td>21</td>\n",
       "    </tr>\n",
       "    <tr>\n",
       "      <th>10</th>\n",
       "      <td>payer_code</td>\n",
       "      <td>18</td>\n",
       "    </tr>\n",
       "    <tr>\n",
       "      <th>8</th>\n",
       "      <td>admission_source_id</td>\n",
       "      <td>17</td>\n",
       "    </tr>\n",
       "    <tr>\n",
       "      <th>18</th>\n",
       "      <td>number_diagnoses</td>\n",
       "      <td>16</td>\n",
       "    </tr>\n",
       "    <tr>\n",
       "      <th>9</th>\n",
       "      <td>time_in_hospital</td>\n",
       "      <td>14</td>\n",
       "    </tr>\n",
       "    <tr>\n",
       "      <th>4</th>\n",
       "      <td>age</td>\n",
       "      <td>10</td>\n",
       "    </tr>\n",
       "    <tr>\n",
       "      <th>5</th>\n",
       "      <td>weight</td>\n",
       "      <td>10</td>\n",
       "    </tr>\n",
       "    <tr>\n",
       "      <th>6</th>\n",
       "      <td>admission_type_id</td>\n",
       "      <td>8</td>\n",
       "    </tr>\n",
       "    <tr>\n",
       "      <th>20</th>\n",
       "      <td>num_procedures</td>\n",
       "      <td>7</td>\n",
       "    </tr>\n",
       "    <tr>\n",
       "      <th>2</th>\n",
       "      <td>race</td>\n",
       "      <td>6</td>\n",
       "    </tr>\n",
       "    <tr>\n",
       "      <th>23</th>\n",
       "      <td>A1Cresult</td>\n",
       "      <td>4</td>\n",
       "    </tr>\n",
       "    <tr>\n",
       "      <th>22</th>\n",
       "      <td>max_glu_serum</td>\n",
       "      <td>4</td>\n",
       "    </tr>\n",
       "    <tr>\n",
       "      <th>3</th>\n",
       "      <td>gender</td>\n",
       "      <td>3</td>\n",
       "    </tr>\n",
       "    <tr>\n",
       "      <th>25</th>\n",
       "      <td>readmitted</td>\n",
       "      <td>3</td>\n",
       "    </tr>\n",
       "    <tr>\n",
       "      <th>24</th>\n",
       "      <td>change</td>\n",
       "      <td>2</td>\n",
       "    </tr>\n",
       "  </tbody>\n",
       "</table>\n",
       "</div>"
      ],
      "text/plain": [
       "                     columns  cardinality\n",
       "0   encounter_id              101766     \n",
       "1   patient_nbr               71518      \n",
       "13  other_diagnosis_codes     19374      \n",
       "12  primary_diagnosis_code    717        \n",
       "21  ndc_code                  251        \n",
       "17  num_lab_procedures        118        \n",
       "19  num_medications           75         \n",
       "11  medical_specialty         73         \n",
       "14  number_outpatient         39         \n",
       "16  number_emergency          33         \n",
       "7   discharge_disposition_id  26         \n",
       "15  number_inpatient          21         \n",
       "10  payer_code                18         \n",
       "8   admission_source_id       17         \n",
       "18  number_diagnoses          16         \n",
       "9   time_in_hospital          14         \n",
       "4   age                       10         \n",
       "5   weight                    10         \n",
       "6   admission_type_id         8          \n",
       "20  num_procedures            7          \n",
       "2   race                      6          \n",
       "23  A1Cresult                 4          \n",
       "22  max_glu_serum             4          \n",
       "3   gender                    3          \n",
       "25  readmitted                3          \n",
       "24  change                    2          "
      ]
     },
     "execution_count": 14,
     "metadata": {},
     "output_type": "execute_result"
    }
   ],
   "source": [
    "categorical_columns_list = ['A1Cresult', 'age', 'change', 'gender', 'max_glu_serum', 'medical_specialty', 'payer_code', 'race',\n",
    "                           'readmitted', 'weight']\n",
    "def count_unique_values(df):\n",
    "    cat_df = df\n",
    "    return pd.DataFrame({\n",
    "        'columns' : cat_df.columns,\n",
    "        'cardinality' : cat_df.nunique()\n",
    "    }).reset_index(drop = True).sort_values(by = 'cardinality', ascending = False)\n",
    "count_unique_values(df)"
   ]
  },
  {
   "cell_type": "markdown",
   "metadata": {},
   "source": [
    "## Reduce Dimensionality of the NDC Code Feature"
   ]
  },
  {
   "cell_type": "markdown",
   "metadata": {},
   "source": [
    "**Question 3**: NDC codes are a common format to represent the wide variety of drugs that are prescribed for patient care in the United States. The challenge is that there are many codes that map to the same or similar drug. You are provided with the ndc drug lookup file https://github.com/udacity/nd320-c1-emr-data-starter/blob/master/project/data_schema_references/ndc_lookup_table.csv derived from the National Drug Codes List site(https://ndclist.com/). Please use this file to come up with a way to reduce the dimensionality of this field and create a new field in the dataset called \"generic_drug_name\" in the output dataframe. "
   ]
  },
  {
   "cell_type": "code",
   "execution_count": 49,
   "metadata": {},
   "outputs": [],
   "source": [
    "#NDC code lookup file\n",
    "ndc_code_path = \"./medication_lookup_tables/final_ndc_lookup_table\"\n",
    "ndc_code_df = pd.read_csv(ndc_code_path)"
   ]
  },
  {
   "cell_type": "code",
   "execution_count": 50,
   "metadata": {},
   "outputs": [],
   "source": [
    "from student_utils import reduce_dimension_ndc"
   ]
  },
  {
   "cell_type": "code",
   "execution_count": 51,
   "metadata": {},
   "outputs": [],
   "source": [
    "def reduce_dimension_ndc(df, ndc_code_df):\n",
    "    '''\n",
    "    df: pandas dataframe, input dataset\n",
    "    ndc_df: pandas dataframe, drug code dataset used for mapping in generic names\n",
    "    return:\n",
    "        df: pandas dataframe, output dataframe with joined generic drug name\n",
    "    '''\n",
    "    mapping = dict(ndc_code_df[['NDC_Code', 'Non-proprietary Name']].values)\n",
    "    mapping['nan'] = np.nan\n",
    "    df['generic_drug_name'] = df['ndc_code'].astype(str).apply(lambda x : mapping[x])\n",
    "    \n",
    "    return df\n",
    "reduce_dim_df = reduce_dimension_ndc(df, ndc_code_df)"
   ]
  },
  {
   "cell_type": "code",
   "execution_count": 52,
   "metadata": {},
   "outputs": [
    {
     "data": {
      "text/html": [
       "<div>\n",
       "<style scoped>\n",
       "    .dataframe tbody tr th:only-of-type {\n",
       "        vertical-align: middle;\n",
       "    }\n",
       "\n",
       "    .dataframe tbody tr th {\n",
       "        vertical-align: top;\n",
       "    }\n",
       "\n",
       "    .dataframe thead th {\n",
       "        text-align: right;\n",
       "    }\n",
       "</style>\n",
       "<table border=\"1\" class=\"dataframe\">\n",
       "  <thead>\n",
       "    <tr style=\"text-align: right;\">\n",
       "      <th></th>\n",
       "      <th>encounter_id</th>\n",
       "      <th>patient_nbr</th>\n",
       "      <th>race</th>\n",
       "      <th>gender</th>\n",
       "      <th>age</th>\n",
       "      <th>weight</th>\n",
       "      <th>admission_type_id</th>\n",
       "      <th>discharge_disposition_id</th>\n",
       "      <th>admission_source_id</th>\n",
       "      <th>time_in_hospital</th>\n",
       "      <th>payer_code</th>\n",
       "      <th>medical_specialty</th>\n",
       "      <th>primary_diagnosis_code</th>\n",
       "      <th>other_diagnosis_codes</th>\n",
       "      <th>number_outpatient</th>\n",
       "      <th>number_inpatient</th>\n",
       "      <th>number_emergency</th>\n",
       "      <th>num_lab_procedures</th>\n",
       "      <th>number_diagnoses</th>\n",
       "      <th>num_medications</th>\n",
       "      <th>num_procedures</th>\n",
       "      <th>ndc_code</th>\n",
       "      <th>max_glu_serum</th>\n",
       "      <th>A1Cresult</th>\n",
       "      <th>change</th>\n",
       "      <th>readmitted</th>\n",
       "      <th>generic_drug_name</th>\n",
       "    </tr>\n",
       "  </thead>\n",
       "  <tbody>\n",
       "    <tr>\n",
       "      <th>0</th>\n",
       "      <td>2278392</td>\n",
       "      <td>8222157</td>\n",
       "      <td>Caucasian</td>\n",
       "      <td>Female</td>\n",
       "      <td>[0-10)</td>\n",
       "      <td>?</td>\n",
       "      <td>6</td>\n",
       "      <td>25</td>\n",
       "      <td>1</td>\n",
       "      <td>1</td>\n",
       "      <td>?</td>\n",
       "      <td>Pediatrics-Endocrinology</td>\n",
       "      <td>250.83</td>\n",
       "      <td>?|?</td>\n",
       "      <td>0</td>\n",
       "      <td>0</td>\n",
       "      <td>0</td>\n",
       "      <td>41</td>\n",
       "      <td>1</td>\n",
       "      <td>1</td>\n",
       "      <td>0</td>\n",
       "      <td>NaN</td>\n",
       "      <td>None</td>\n",
       "      <td>None</td>\n",
       "      <td>No</td>\n",
       "      <td>NO</td>\n",
       "      <td>NaN</td>\n",
       "    </tr>\n",
       "    <tr>\n",
       "      <th>1</th>\n",
       "      <td>149190</td>\n",
       "      <td>55629189</td>\n",
       "      <td>Caucasian</td>\n",
       "      <td>Female</td>\n",
       "      <td>[10-20)</td>\n",
       "      <td>?</td>\n",
       "      <td>1</td>\n",
       "      <td>1</td>\n",
       "      <td>7</td>\n",
       "      <td>3</td>\n",
       "      <td>?</td>\n",
       "      <td>?</td>\n",
       "      <td>276</td>\n",
       "      <td>250.01|255</td>\n",
       "      <td>0</td>\n",
       "      <td>0</td>\n",
       "      <td>0</td>\n",
       "      <td>59</td>\n",
       "      <td>9</td>\n",
       "      <td>18</td>\n",
       "      <td>0</td>\n",
       "      <td>68071-1701</td>\n",
       "      <td>None</td>\n",
       "      <td>None</td>\n",
       "      <td>Ch</td>\n",
       "      <td>&gt;30</td>\n",
       "      <td>Human Insulin</td>\n",
       "    </tr>\n",
       "    <tr>\n",
       "      <th>2</th>\n",
       "      <td>64410</td>\n",
       "      <td>86047875</td>\n",
       "      <td>AfricanAmerican</td>\n",
       "      <td>Female</td>\n",
       "      <td>[20-30)</td>\n",
       "      <td>?</td>\n",
       "      <td>1</td>\n",
       "      <td>1</td>\n",
       "      <td>7</td>\n",
       "      <td>2</td>\n",
       "      <td>?</td>\n",
       "      <td>?</td>\n",
       "      <td>648</td>\n",
       "      <td>250|V27</td>\n",
       "      <td>2</td>\n",
       "      <td>1</td>\n",
       "      <td>0</td>\n",
       "      <td>11</td>\n",
       "      <td>6</td>\n",
       "      <td>13</td>\n",
       "      <td>5</td>\n",
       "      <td>0378-1110</td>\n",
       "      <td>None</td>\n",
       "      <td>None</td>\n",
       "      <td>No</td>\n",
       "      <td>NO</td>\n",
       "      <td>Glipizide</td>\n",
       "    </tr>\n",
       "    <tr>\n",
       "      <th>3</th>\n",
       "      <td>500364</td>\n",
       "      <td>82442376</td>\n",
       "      <td>Caucasian</td>\n",
       "      <td>Male</td>\n",
       "      <td>[30-40)</td>\n",
       "      <td>?</td>\n",
       "      <td>1</td>\n",
       "      <td>1</td>\n",
       "      <td>7</td>\n",
       "      <td>2</td>\n",
       "      <td>?</td>\n",
       "      <td>?</td>\n",
       "      <td>8</td>\n",
       "      <td>250.43|403</td>\n",
       "      <td>0</td>\n",
       "      <td>0</td>\n",
       "      <td>0</td>\n",
       "      <td>44</td>\n",
       "      <td>7</td>\n",
       "      <td>16</td>\n",
       "      <td>1</td>\n",
       "      <td>68071-1701</td>\n",
       "      <td>None</td>\n",
       "      <td>None</td>\n",
       "      <td>Ch</td>\n",
       "      <td>NO</td>\n",
       "      <td>Human Insulin</td>\n",
       "    </tr>\n",
       "    <tr>\n",
       "      <th>4</th>\n",
       "      <td>16680</td>\n",
       "      <td>42519267</td>\n",
       "      <td>Caucasian</td>\n",
       "      <td>Male</td>\n",
       "      <td>[40-50)</td>\n",
       "      <td>?</td>\n",
       "      <td>1</td>\n",
       "      <td>1</td>\n",
       "      <td>7</td>\n",
       "      <td>1</td>\n",
       "      <td>?</td>\n",
       "      <td>?</td>\n",
       "      <td>197</td>\n",
       "      <td>157|250</td>\n",
       "      <td>0</td>\n",
       "      <td>0</td>\n",
       "      <td>0</td>\n",
       "      <td>51</td>\n",
       "      <td>5</td>\n",
       "      <td>8</td>\n",
       "      <td>0</td>\n",
       "      <td>0049-4110</td>\n",
       "      <td>None</td>\n",
       "      <td>None</td>\n",
       "      <td>Ch</td>\n",
       "      <td>NO</td>\n",
       "      <td>Glipizide</td>\n",
       "    </tr>\n",
       "  </tbody>\n",
       "</table>\n",
       "</div>"
      ],
      "text/plain": [
       "   encounter_id  patient_nbr             race  gender      age weight  \\\n",
       "0  2278392       8222157      Caucasian        Female  [0-10)   ?       \n",
       "1  149190        55629189     Caucasian        Female  [10-20)  ?       \n",
       "2  64410         86047875     AfricanAmerican  Female  [20-30)  ?       \n",
       "3  500364        82442376     Caucasian        Male    [30-40)  ?       \n",
       "4  16680         42519267     Caucasian        Male    [40-50)  ?       \n",
       "\n",
       "   admission_type_id  discharge_disposition_id  admission_source_id  \\\n",
       "0  6                  25                        1                     \n",
       "1  1                  1                         7                     \n",
       "2  1                  1                         7                     \n",
       "3  1                  1                         7                     \n",
       "4  1                  1                         7                     \n",
       "\n",
       "   time_in_hospital payer_code         medical_specialty  \\\n",
       "0  1                 ?          Pediatrics-Endocrinology   \n",
       "1  3                 ?          ?                          \n",
       "2  2                 ?          ?                          \n",
       "3  2                 ?          ?                          \n",
       "4  1                 ?          ?                          \n",
       "\n",
       "  primary_diagnosis_code other_diagnosis_codes  number_outpatient  \\\n",
       "0  250.83                 ?|?                   0                   \n",
       "1  276                    250.01|255            0                   \n",
       "2  648                    250|V27               2                   \n",
       "3  8                      250.43|403            0                   \n",
       "4  197                    157|250               0                   \n",
       "\n",
       "   number_inpatient  number_emergency  num_lab_procedures  number_diagnoses  \\\n",
       "0  0                 0                 41                  1                  \n",
       "1  0                 0                 59                  9                  \n",
       "2  1                 0                 11                  6                  \n",
       "3  0                 0                 44                  7                  \n",
       "4  0                 0                 51                  5                  \n",
       "\n",
       "   num_medications  num_procedures    ndc_code max_glu_serum A1Cresult change  \\\n",
       "0  1                0               NaN         None          None      No      \n",
       "1  18               0               68071-1701  None          None      Ch      \n",
       "2  13               5               0378-1110   None          None      No      \n",
       "3  16               1               68071-1701  None          None      Ch      \n",
       "4  8                0               0049-4110   None          None      Ch      \n",
       "\n",
       "  readmitted generic_drug_name  \n",
       "0  NO         NaN               \n",
       "1  >30        Human Insulin     \n",
       "2  NO         Glipizide         \n",
       "3  NO         Human Insulin     \n",
       "4  NO         Glipizide         "
      ]
     },
     "execution_count": 52,
     "metadata": {},
     "output_type": "execute_result"
    }
   ],
   "source": [
    "reduce_dim_df.head()"
   ]
  },
  {
   "cell_type": "code",
   "execution_count": 53,
   "metadata": {},
   "outputs": [
    {
     "name": "stdout",
     "output_type": "stream",
     "text": [
      "Number of ndc_code:  251\n",
      "Number of drug name:  22\n"
     ]
    }
   ],
   "source": [
    "# Number of unique values should be less for the new output field\n",
    "assert df['ndc_code'].nunique() > reduce_dim_df['generic_drug_name'].nunique()\n",
    "print('Number of ndc_code: ', df['ndc_code'].nunique())\n",
    "print('Number of drug name: ', reduce_dim_df['generic_drug_name'].nunique())"
   ]
  },
  {
   "cell_type": "markdown",
   "metadata": {},
   "source": [
    "## Select First Encounter for each Patient "
   ]
  },
  {
   "cell_type": "markdown",
   "metadata": {},
   "source": [
    "**Question 4**: In order to simplify the aggregation of data for the model, we will only select the first encounter for each patient in the dataset. This is to reduce the risk of data leakage of future patient encounters and to reduce complexity of the data transformation and modeling steps. We will assume that sorting in numerical order on the encounter_id provides the time horizon for determining which encounters come before and after another."
   ]
  },
  {
   "cell_type": "code",
   "execution_count": 54,
   "metadata": {},
   "outputs": [],
   "source": [
    "def select_first_encounter(df):\n",
    "    '''\n",
    "    df: pandas dataframe, dataframe with all encounters\n",
    "    return:\n",
    "    \n",
    "        - first_encounter_df: pandas dataframe, dataframe with only the first encounter for a given patient\n",
    "    '''\n",
    "    df.sort_values(by = 'encounter_id')\n",
    "    first_encounters = df.groupby('patient_nbr')['encounter_id'].first().values\n",
    "    first_encounter_df = df[df['encounter_id'].isin(first_encounters)]\n",
    "#    first_encounter_df = first_encounter_df.groupby('encounter_id').first().reset_index()\n",
    "\n",
    "    return first_encounter_df"
   ]
  },
  {
   "cell_type": "code",
   "execution_count": 55,
   "metadata": {},
   "outputs": [],
   "source": [
    "first_encounter_df = select_first_encounter(reduce_dim_df)"
   ]
  },
  {
   "cell_type": "code",
   "execution_count": 56,
   "metadata": {},
   "outputs": [
    {
     "data": {
      "text/html": [
       "<div>\n",
       "<style scoped>\n",
       "    .dataframe tbody tr th:only-of-type {\n",
       "        vertical-align: middle;\n",
       "    }\n",
       "\n",
       "    .dataframe tbody tr th {\n",
       "        vertical-align: top;\n",
       "    }\n",
       "\n",
       "    .dataframe thead th {\n",
       "        text-align: right;\n",
       "    }\n",
       "</style>\n",
       "<table border=\"1\" class=\"dataframe\">\n",
       "  <thead>\n",
       "    <tr style=\"text-align: right;\">\n",
       "      <th></th>\n",
       "      <th>encounter_id</th>\n",
       "      <th>patient_nbr</th>\n",
       "      <th>race</th>\n",
       "      <th>gender</th>\n",
       "      <th>age</th>\n",
       "      <th>weight</th>\n",
       "      <th>admission_type_id</th>\n",
       "      <th>discharge_disposition_id</th>\n",
       "      <th>admission_source_id</th>\n",
       "      <th>time_in_hospital</th>\n",
       "      <th>payer_code</th>\n",
       "      <th>medical_specialty</th>\n",
       "      <th>primary_diagnosis_code</th>\n",
       "      <th>other_diagnosis_codes</th>\n",
       "      <th>number_outpatient</th>\n",
       "      <th>number_inpatient</th>\n",
       "      <th>number_emergency</th>\n",
       "      <th>num_lab_procedures</th>\n",
       "      <th>number_diagnoses</th>\n",
       "      <th>num_medications</th>\n",
       "      <th>num_procedures</th>\n",
       "      <th>ndc_code</th>\n",
       "      <th>max_glu_serum</th>\n",
       "      <th>A1Cresult</th>\n",
       "      <th>change</th>\n",
       "      <th>readmitted</th>\n",
       "      <th>generic_drug_name</th>\n",
       "    </tr>\n",
       "  </thead>\n",
       "  <tbody>\n",
       "    <tr>\n",
       "      <th>0</th>\n",
       "      <td>2278392</td>\n",
       "      <td>8222157</td>\n",
       "      <td>Caucasian</td>\n",
       "      <td>Female</td>\n",
       "      <td>[0-10)</td>\n",
       "      <td>?</td>\n",
       "      <td>6</td>\n",
       "      <td>25</td>\n",
       "      <td>1</td>\n",
       "      <td>1</td>\n",
       "      <td>?</td>\n",
       "      <td>Pediatrics-Endocrinology</td>\n",
       "      <td>250.83</td>\n",
       "      <td>?|?</td>\n",
       "      <td>0</td>\n",
       "      <td>0</td>\n",
       "      <td>0</td>\n",
       "      <td>41</td>\n",
       "      <td>1</td>\n",
       "      <td>1</td>\n",
       "      <td>0</td>\n",
       "      <td>NaN</td>\n",
       "      <td>None</td>\n",
       "      <td>None</td>\n",
       "      <td>No</td>\n",
       "      <td>NO</td>\n",
       "      <td>NaN</td>\n",
       "    </tr>\n",
       "    <tr>\n",
       "      <th>1</th>\n",
       "      <td>149190</td>\n",
       "      <td>55629189</td>\n",
       "      <td>Caucasian</td>\n",
       "      <td>Female</td>\n",
       "      <td>[10-20)</td>\n",
       "      <td>?</td>\n",
       "      <td>1</td>\n",
       "      <td>1</td>\n",
       "      <td>7</td>\n",
       "      <td>3</td>\n",
       "      <td>?</td>\n",
       "      <td>?</td>\n",
       "      <td>276</td>\n",
       "      <td>250.01|255</td>\n",
       "      <td>0</td>\n",
       "      <td>0</td>\n",
       "      <td>0</td>\n",
       "      <td>59</td>\n",
       "      <td>9</td>\n",
       "      <td>18</td>\n",
       "      <td>0</td>\n",
       "      <td>68071-1701</td>\n",
       "      <td>None</td>\n",
       "      <td>None</td>\n",
       "      <td>Ch</td>\n",
       "      <td>&gt;30</td>\n",
       "      <td>Human Insulin</td>\n",
       "    </tr>\n",
       "    <tr>\n",
       "      <th>2</th>\n",
       "      <td>64410</td>\n",
       "      <td>86047875</td>\n",
       "      <td>AfricanAmerican</td>\n",
       "      <td>Female</td>\n",
       "      <td>[20-30)</td>\n",
       "      <td>?</td>\n",
       "      <td>1</td>\n",
       "      <td>1</td>\n",
       "      <td>7</td>\n",
       "      <td>2</td>\n",
       "      <td>?</td>\n",
       "      <td>?</td>\n",
       "      <td>648</td>\n",
       "      <td>250|V27</td>\n",
       "      <td>2</td>\n",
       "      <td>1</td>\n",
       "      <td>0</td>\n",
       "      <td>11</td>\n",
       "      <td>6</td>\n",
       "      <td>13</td>\n",
       "      <td>5</td>\n",
       "      <td>0378-1110</td>\n",
       "      <td>None</td>\n",
       "      <td>None</td>\n",
       "      <td>No</td>\n",
       "      <td>NO</td>\n",
       "      <td>Glipizide</td>\n",
       "    </tr>\n",
       "    <tr>\n",
       "      <th>3</th>\n",
       "      <td>500364</td>\n",
       "      <td>82442376</td>\n",
       "      <td>Caucasian</td>\n",
       "      <td>Male</td>\n",
       "      <td>[30-40)</td>\n",
       "      <td>?</td>\n",
       "      <td>1</td>\n",
       "      <td>1</td>\n",
       "      <td>7</td>\n",
       "      <td>2</td>\n",
       "      <td>?</td>\n",
       "      <td>?</td>\n",
       "      <td>8</td>\n",
       "      <td>250.43|403</td>\n",
       "      <td>0</td>\n",
       "      <td>0</td>\n",
       "      <td>0</td>\n",
       "      <td>44</td>\n",
       "      <td>7</td>\n",
       "      <td>16</td>\n",
       "      <td>1</td>\n",
       "      <td>68071-1701</td>\n",
       "      <td>None</td>\n",
       "      <td>None</td>\n",
       "      <td>Ch</td>\n",
       "      <td>NO</td>\n",
       "      <td>Human Insulin</td>\n",
       "    </tr>\n",
       "    <tr>\n",
       "      <th>4</th>\n",
       "      <td>16680</td>\n",
       "      <td>42519267</td>\n",
       "      <td>Caucasian</td>\n",
       "      <td>Male</td>\n",
       "      <td>[40-50)</td>\n",
       "      <td>?</td>\n",
       "      <td>1</td>\n",
       "      <td>1</td>\n",
       "      <td>7</td>\n",
       "      <td>1</td>\n",
       "      <td>?</td>\n",
       "      <td>?</td>\n",
       "      <td>197</td>\n",
       "      <td>157|250</td>\n",
       "      <td>0</td>\n",
       "      <td>0</td>\n",
       "      <td>0</td>\n",
       "      <td>51</td>\n",
       "      <td>5</td>\n",
       "      <td>8</td>\n",
       "      <td>0</td>\n",
       "      <td>0049-4110</td>\n",
       "      <td>None</td>\n",
       "      <td>None</td>\n",
       "      <td>Ch</td>\n",
       "      <td>NO</td>\n",
       "      <td>Glipizide</td>\n",
       "    </tr>\n",
       "  </tbody>\n",
       "</table>\n",
       "</div>"
      ],
      "text/plain": [
       "   encounter_id  patient_nbr             race  gender      age weight  \\\n",
       "0  2278392       8222157      Caucasian        Female  [0-10)   ?       \n",
       "1  149190        55629189     Caucasian        Female  [10-20)  ?       \n",
       "2  64410         86047875     AfricanAmerican  Female  [20-30)  ?       \n",
       "3  500364        82442376     Caucasian        Male    [30-40)  ?       \n",
       "4  16680         42519267     Caucasian        Male    [40-50)  ?       \n",
       "\n",
       "   admission_type_id  discharge_disposition_id  admission_source_id  \\\n",
       "0  6                  25                        1                     \n",
       "1  1                  1                         7                     \n",
       "2  1                  1                         7                     \n",
       "3  1                  1                         7                     \n",
       "4  1                  1                         7                     \n",
       "\n",
       "   time_in_hospital payer_code         medical_specialty  \\\n",
       "0  1                 ?          Pediatrics-Endocrinology   \n",
       "1  3                 ?          ?                          \n",
       "2  2                 ?          ?                          \n",
       "3  2                 ?          ?                          \n",
       "4  1                 ?          ?                          \n",
       "\n",
       "  primary_diagnosis_code other_diagnosis_codes  number_outpatient  \\\n",
       "0  250.83                 ?|?                   0                   \n",
       "1  276                    250.01|255            0                   \n",
       "2  648                    250|V27               2                   \n",
       "3  8                      250.43|403            0                   \n",
       "4  197                    157|250               0                   \n",
       "\n",
       "   number_inpatient  number_emergency  num_lab_procedures  number_diagnoses  \\\n",
       "0  0                 0                 41                  1                  \n",
       "1  0                 0                 59                  9                  \n",
       "2  1                 0                 11                  6                  \n",
       "3  0                 0                 44                  7                  \n",
       "4  0                 0                 51                  5                  \n",
       "\n",
       "   num_medications  num_procedures    ndc_code max_glu_serum A1Cresult change  \\\n",
       "0  1                0               NaN         None          None      No      \n",
       "1  18               0               68071-1701  None          None      Ch      \n",
       "2  13               5               0378-1110   None          None      No      \n",
       "3  16               1               68071-1701  None          None      Ch      \n",
       "4  8                0               0049-4110   None          None      Ch      \n",
       "\n",
       "  readmitted generic_drug_name  \n",
       "0  NO         NaN               \n",
       "1  >30        Human Insulin     \n",
       "2  NO         Glipizide         \n",
       "3  NO         Human Insulin     \n",
       "4  NO         Glipizide         "
      ]
     },
     "execution_count": 56,
     "metadata": {},
     "output_type": "execute_result"
    }
   ],
   "source": [
    "first_encounter_df.head()"
   ]
  },
  {
   "cell_type": "code",
   "execution_count": 57,
   "metadata": {},
   "outputs": [
    {
     "name": "stdout",
     "output_type": "stream",
     "text": [
      "Number of unique patients:71518\n",
      "Number of unique encounters:71518\n",
      "Tests passed!!\n"
     ]
    }
   ],
   "source": [
    "# unique patients in transformed dataset\n",
    "unique_patients = first_encounter_df['patient_nbr'].nunique()\n",
    "print(\"Number of unique patients:{}\".format(unique_patients))\n",
    "\n",
    "# unique encounters in transformed dataset\n",
    "unique_encounters = first_encounter_df['encounter_id'].nunique()\n",
    "print(\"Number of unique encounters:{}\".format(unique_encounters))\n",
    "\n",
    "original_unique_patient_number = reduce_dim_df['patient_nbr'].nunique()\n",
    "# number of unique patients should be equal to the number of unique encounters and patients in the final dataset\n",
    "assert original_unique_patient_number == unique_patients\n",
    "assert original_unique_patient_number == unique_encounters\n",
    "print(\"Tests passed!!\")"
   ]
  },
  {
   "cell_type": "markdown",
   "metadata": {},
   "source": [
    "## Aggregate Dataset to Right Level for Modeling "
   ]
  },
  {
   "cell_type": "markdown",
   "metadata": {},
   "source": [
    "In order to provide a broad scope of the steps and to prevent students from getting stuck with data transformations, we have selected the aggregation columns and provided a function to build the dataset at the appropriate level. The 'aggregate_dataset\" function that you can find in the 'utils.py' file can take the preceding dataframe with the 'generic_drug_name' field and transform the data appropriately for the project. \n",
    "\n",
    "To make it simpler for students, we are creating dummy columns for each unique generic drug name and adding those are input features to the model. There are other options for data representation but this is out of scope for the time constraints of the course."
   ]
  },
  {
   "cell_type": "code",
   "execution_count": 58,
   "metadata": {},
   "outputs": [],
   "source": [
    "exclusion_list = [ 'generic_drug_name', 'ndc_code']\n",
    "grouping_field_list = [c for c in first_encounter_df.columns if c not in exclusion_list]\n",
    "agg_drug_df, ndc_col_list = aggregate_dataset(first_encounter_df, grouping_field_list, 'generic_drug_name')"
   ]
  },
  {
   "cell_type": "code",
   "execution_count": 59,
   "metadata": {},
   "outputs": [],
   "source": [
    "assert len(agg_drug_df) == agg_drug_df['patient_nbr'].nunique() == agg_drug_df['encounter_id'].nunique()"
   ]
  },
  {
   "cell_type": "code",
   "execution_count": 60,
   "metadata": {},
   "outputs": [
    {
     "data": {
      "text/plain": [
       "['Acarbose',\n",
       " 'Glimepiride',\n",
       " 'Glipizide',\n",
       " 'Glipizide_And_Metformin_Hcl',\n",
       " 'Glipizide_And_Metformin_Hydrochloride',\n",
       " 'Glyburide',\n",
       " 'Glyburide_And_Metformin_Hydrochloride',\n",
       " 'Glyburide-metformin_Hydrochloride',\n",
       " 'Human_Insulin',\n",
       " 'Insulin_Human',\n",
       " 'Metformin_Hcl',\n",
       " 'Metformin_Hydrochloride',\n",
       " 'Miglitol',\n",
       " 'Nateglinide',\n",
       " 'Pioglitazole_And_Metformin_Hydrochloride',\n",
       " 'Pioglitazone',\n",
       " 'Pioglitazone_Hydrochloride_And_Glimepiride',\n",
       " 'Repaglinide',\n",
       " 'Rosiglitazone_Maleate',\n",
       " 'Tolazamide',\n",
       " 'Tolbutamide']"
      ]
     },
     "execution_count": 60,
     "metadata": {},
     "output_type": "execute_result"
    }
   ],
   "source": [
    "ndc_col_list"
   ]
  },
  {
   "cell_type": "markdown",
   "metadata": {},
   "source": [
    "## Prepare Fields and Cast Dataset "
   ]
  },
  {
   "cell_type": "markdown",
   "metadata": {},
   "source": [
    "### Feature Selection"
   ]
  },
  {
   "cell_type": "markdown",
   "metadata": {},
   "source": [
    "**Question 5**: After you have aggregated the dataset to the right level, we can do feature selection (we will include the ndc_col_list, dummy column features too). In the block below, please select the categorical and numerical features that you will use for the model, so that we can create a dataset subset. \n",
    "\n",
    "For the payer_code and weight fields, please provide whether you think we should include/exclude the field in our model and give a justification/rationale for this based off of the statistics of the data. Feel free to use visualizations or summary statistics to support your choice."
   ]
  },
  {
   "cell_type": "markdown",
   "metadata": {},
   "source": [
    "**Student response**: We should exclude both payer_code and weight in our model because of large missing values."
   ]
  },
  {
   "cell_type": "code",
   "execution_count": 61,
   "metadata": {},
   "outputs": [
    {
     "data": {
      "text/plain": [
       "<matplotlib.axes._subplots.AxesSubplot at 0x7f7ffda9ef50>"
      ]
     },
     "execution_count": 61,
     "metadata": {},
     "output_type": "execute_result"
    },
    {
     "data": {
      "image/png": "[encoded data removed]",
      "text/plain": [
       "<Figure size 576x360 with 1 Axes>"
      ]
     },
     "metadata": {
      "needs_background": "light"
     },
     "output_type": "display_data"
    }
   ],
   "source": [
    "plt.figure(figsize=(8, 5))\n",
    "sns.countplot(x = 'payer_code',  data = agg_drug_df)"
   ]
  },
  {
   "cell_type": "code",
   "execution_count": 238,
   "metadata": {},
   "outputs": [
    {
     "data": {
      "text/plain": [
       "<matplotlib.axes._subplots.AxesSubplot at 0x7f7fdfd78110>"
      ]
     },
     "execution_count": 238,
     "metadata": {},
     "output_type": "execute_result"
    },
    {
     "data": {
      "image/png": "[encoded data removed]",
      "text/plain": [
       "<Figure size 576x360 with 1 Axes>"
      ]
     },
     "metadata": {
      "needs_background": "light"
     },
     "output_type": "display_data"
    }
   ],
   "source": [
    "plt.figure(figsize=(8, 5))\n",
    "sns.countplot(x = 'number_emergency',  data = agg_drug_df)"
   ]
  },
  {
   "cell_type": "code",
   "execution_count": 581,
   "metadata": {},
   "outputs": [
    {
     "data": {
      "text/html": [
       "<div>\n",
       "<style scoped>\n",
       "    .dataframe tbody tr th:only-of-type {\n",
       "        vertical-align: middle;\n",
       "    }\n",
       "\n",
       "    .dataframe tbody tr th {\n",
       "        vertical-align: top;\n",
       "    }\n",
       "\n",
       "    .dataframe thead th {\n",
       "        text-align: right;\n",
       "    }\n",
       "</style>\n",
       "<table border=\"1\" class=\"dataframe\">\n",
       "  <thead>\n",
       "    <tr style=\"text-align: right;\">\n",
       "      <th></th>\n",
       "      <th>columns</th>\n",
       "      <th>cardinality</th>\n",
       "    </tr>\n",
       "  </thead>\n",
       "  <tbody>\n",
       "    <tr>\n",
       "      <th>0</th>\n",
       "      <td>encounter_id</td>\n",
       "      <td>71518</td>\n",
       "    </tr>\n",
       "    <tr>\n",
       "      <th>1</th>\n",
       "      <td>patient_nbr</td>\n",
       "      <td>71518</td>\n",
       "    </tr>\n",
       "    <tr>\n",
       "      <th>13</th>\n",
       "      <td>other_diagnosis_codes</td>\n",
       "      <td>15756</td>\n",
       "    </tr>\n",
       "    <tr>\n",
       "      <th>12</th>\n",
       "      <td>primary_diagnosis_code</td>\n",
       "      <td>697</td>\n",
       "    </tr>\n",
       "    <tr>\n",
       "      <th>17</th>\n",
       "      <td>num_lab_procedures</td>\n",
       "      <td>116</td>\n",
       "    </tr>\n",
       "    <tr>\n",
       "      <th>19</th>\n",
       "      <td>num_medications</td>\n",
       "      <td>75</td>\n",
       "    </tr>\n",
       "    <tr>\n",
       "      <th>11</th>\n",
       "      <td>medical_specialty</td>\n",
       "      <td>71</td>\n",
       "    </tr>\n",
       "    <tr>\n",
       "      <th>14</th>\n",
       "      <td>number_outpatient</td>\n",
       "      <td>33</td>\n",
       "    </tr>\n",
       "    <tr>\n",
       "      <th>7</th>\n",
       "      <td>discharge_disposition_id</td>\n",
       "      <td>26</td>\n",
       "    </tr>\n",
       "    <tr>\n",
       "      <th>10</th>\n",
       "      <td>payer_code</td>\n",
       "      <td>18</td>\n",
       "    </tr>\n",
       "    <tr>\n",
       "      <th>16</th>\n",
       "      <td>number_emergency</td>\n",
       "      <td>18</td>\n",
       "    </tr>\n",
       "    <tr>\n",
       "      <th>8</th>\n",
       "      <td>admission_source_id</td>\n",
       "      <td>17</td>\n",
       "    </tr>\n",
       "    <tr>\n",
       "      <th>18</th>\n",
       "      <td>number_diagnoses</td>\n",
       "      <td>16</td>\n",
       "    </tr>\n",
       "    <tr>\n",
       "      <th>9</th>\n",
       "      <td>time_in_hospital</td>\n",
       "      <td>14</td>\n",
       "    </tr>\n",
       "    <tr>\n",
       "      <th>15</th>\n",
       "      <td>number_inpatient</td>\n",
       "      <td>13</td>\n",
       "    </tr>\n",
       "    <tr>\n",
       "      <th>4</th>\n",
       "      <td>age</td>\n",
       "      <td>10</td>\n",
       "    </tr>\n",
       "    <tr>\n",
       "      <th>5</th>\n",
       "      <td>weight</td>\n",
       "      <td>10</td>\n",
       "    </tr>\n",
       "    <tr>\n",
       "      <th>6</th>\n",
       "      <td>admission_type_id</td>\n",
       "      <td>8</td>\n",
       "    </tr>\n",
       "    <tr>\n",
       "      <th>20</th>\n",
       "      <td>num_procedures</td>\n",
       "      <td>7</td>\n",
       "    </tr>\n",
       "    <tr>\n",
       "      <th>2</th>\n",
       "      <td>race</td>\n",
       "      <td>6</td>\n",
       "    </tr>\n",
       "    <tr>\n",
       "      <th>21</th>\n",
       "      <td>max_glu_serum</td>\n",
       "      <td>4</td>\n",
       "    </tr>\n",
       "    <tr>\n",
       "      <th>22</th>\n",
       "      <td>A1Cresult</td>\n",
       "      <td>4</td>\n",
       "    </tr>\n",
       "    <tr>\n",
       "      <th>3</th>\n",
       "      <td>gender</td>\n",
       "      <td>3</td>\n",
       "    </tr>\n",
       "    <tr>\n",
       "      <th>24</th>\n",
       "      <td>readmitted</td>\n",
       "      <td>3</td>\n",
       "    </tr>\n",
       "    <tr>\n",
       "      <th>23</th>\n",
       "      <td>change</td>\n",
       "      <td>2</td>\n",
       "    </tr>\n",
       "  </tbody>\n",
       "</table>\n",
       "</div>"
      ],
      "text/plain": [
       "                     columns  cardinality\n",
       "0   encounter_id              71518      \n",
       "1   patient_nbr               71518      \n",
       "13  other_diagnosis_codes     15756      \n",
       "12  primary_diagnosis_code    697        \n",
       "17  num_lab_procedures        116        \n",
       "19  num_medications           75         \n",
       "11  medical_specialty         71         \n",
       "14  number_outpatient         33         \n",
       "7   discharge_disposition_id  26         \n",
       "10  payer_code                18         \n",
       "16  number_emergency          18         \n",
       "8   admission_source_id       17         \n",
       "18  number_diagnoses          16         \n",
       "9   time_in_hospital          14         \n",
       "15  number_inpatient          13         \n",
       "4   age                       10         \n",
       "5   weight                    10         \n",
       "6   admission_type_id         8          \n",
       "20  num_procedures            7          \n",
       "2   race                      6          \n",
       "21  max_glu_serum             4          \n",
       "22  A1Cresult                 4          \n",
       "3   gender                    3          \n",
       "24  readmitted                3          \n",
       "23  change                    2          "
      ]
     },
     "execution_count": 581,
     "metadata": {},
     "output_type": "execute_result"
    }
   ],
   "source": [
    "count_unique_values(agg_drug_df[grouping_field_list])"
   ]
  },
  {
   "cell_type": "code",
   "execution_count": 582,
   "metadata": {},
   "outputs": [],
   "source": [
    "'''\n",
    "Please update the list to include the features you think are appropriate for the model \n",
    "and the field that we will be using to train the model. There are three required demographic features for the model \n",
    "and I have inserted a list with them already in the categorical list. \n",
    "These will be required for later steps when analyzing data splits and model biases.\n",
    "'''\n",
    "required_demo_col_list = ['race', 'gender', 'age']\n",
    "student_categorical_col_list = [ 'change', 'primary_diagnosis_code'\n",
    "                               ] + required_demo_col_list + ndc_col_list\n",
    "student_numerical_col_list = [ 'number_inpatient', 'number_emergency', 'num_lab_procedures', 'number_diagnoses','num_medications','num_procedures']\n",
    "PREDICTOR_FIELD = 'time_in_hospital'"
   ]
  },
  {
   "cell_type": "code",
   "execution_count": 583,
   "metadata": {},
   "outputs": [],
   "source": [
    "def select_model_features(df, categorical_col_list, numerical_col_list, PREDICTOR_FIELD, grouping_key='patient_nbr'):\n",
    "    selected_col_list = [grouping_key] + [PREDICTOR_FIELD] + categorical_col_list + numerical_col_list   \n",
    "    return agg_drug_df[selected_col_list]\n"
   ]
  },
  {
   "cell_type": "code",
   "execution_count": 584,
   "metadata": {},
   "outputs": [],
   "source": [
    "selected_features_df = select_model_features(agg_drug_df, student_categorical_col_list, student_numerical_col_list,\n",
    "                                            PREDICTOR_FIELD)"
   ]
  },
  {
   "cell_type": "markdown",
   "metadata": {},
   "source": [
    "### Preprocess Dataset - Casting and Imputing  "
   ]
  },
  {
   "cell_type": "markdown",
   "metadata": {},
   "source": [
    "We will cast and impute the dataset before splitting so that we do not have to repeat these steps across the splits in the next step. For imputing, there can be deeper analysis into which features to impute and how to impute but for the sake of time, we are taking a general strategy of imputing zero for only numerical features. \n",
    "\n",
    "OPTIONAL: What are some potential issues with this approach? Can you recommend a better way and also implement it?"
   ]
  },
  {
   "cell_type": "code",
   "execution_count": 585,
   "metadata": {},
   "outputs": [
    {
     "name": "stderr",
     "output_type": "stream",
     "text": [
      "/home/workspace/starter_code/utils.py:29: SettingWithCopyWarning: \n",
      "A value is trying to be set on a copy of a slice from a DataFrame.\n",
      "Try using .loc[row_indexer,col_indexer] = value instead\n",
      "\n",
      "See the caveats in the documentation: http://pandas.pydata.org/pandas-docs/stable/user_guide/indexing.html#returning-a-view-versus-a-copy\n",
      "  df[predictor] = df[predictor].astype(float)\n",
      "/home/workspace/starter_code/utils.py:31: SettingWithCopyWarning: \n",
      "A value is trying to be set on a copy of a slice from a DataFrame.\n",
      "Try using .loc[row_indexer,col_indexer] = value instead\n",
      "\n",
      "See the caveats in the documentation: http://pandas.pydata.org/pandas-docs/stable/user_guide/indexing.html#returning-a-view-versus-a-copy\n",
      "  df[c] = cast_df(df, c, d_type=str)\n",
      "/home/workspace/starter_code/utils.py:33: SettingWithCopyWarning: \n",
      "A value is trying to be set on a copy of a slice from a DataFrame.\n",
      "Try using .loc[row_indexer,col_indexer] = value instead\n",
      "\n",
      "See the caveats in the documentation: http://pandas.pydata.org/pandas-docs/stable/user_guide/indexing.html#returning-a-view-versus-a-copy\n",
      "  df[numerical_column] = impute_df(df, numerical_column, numerical_impute_value)\n"
     ]
    }
   ],
   "source": [
    "processed_df = preprocess_df(selected_features_df, student_categorical_col_list, \n",
    "        student_numerical_col_list, PREDICTOR_FIELD, categorical_impute_value='nan', numerical_impute_value=0)"
   ]
  },
  {
   "cell_type": "markdown",
   "metadata": {},
   "source": [
    "## Split Dataset into Train, Validation, and Test Partitions"
   ]
  },
  {
   "cell_type": "markdown",
   "metadata": {},
   "source": [
    "**Question 6**: In order to prepare the data for being trained and evaluated by a deep learning model, we will split the dataset into three partitions, with the validation partition used for optimizing the model hyperparameters during training. One of the key parts is that we need to be sure that the data does not accidently leak across partitions.\n",
    "\n",
    "Please complete the function below to split the input dataset into three partitions(train, validation, test) with the following requirements.\n",
    "- Approximately 60%/20%/20%  train/validation/test split\n",
    "- Randomly sample different patients into each data partition\n",
    "- **IMPORTANT** Make sure that a patient's data is not in more than one partition, so that we can avoid possible data leakage.\n",
    "- Make sure that the total number of unique patients across the splits is equal to the total number of unique patients in the original dataset\n",
    "- Total number of rows in original dataset = sum of rows across all three dataset partitions"
   ]
  },
  {
   "cell_type": "code",
   "execution_count": 586,
   "metadata": {},
   "outputs": [],
   "source": [
    "def patient_dataset_splitter(df, patient_key='patient_nbr'):\n",
    "    '''\n",
    "    df: pandas dataframe, input dataset that will be split\n",
    "    patient_key: string, column that is the patient id\n",
    "\n",
    "    return:\n",
    "     - train: pandas dataframe,\n",
    "     - validation: pandas dataframe,\n",
    "     - test: pandas dataframe,\n",
    "    '''\n",
    "    df[student_numerical_col_list] = df[student_numerical_col_list].astype(float)\n",
    "    train_val_df = df.sample(frac = 0.8, random_state=3)\n",
    "    train_df = train_val_df.sample(frac = 0.8, random_state=3)\n",
    "    val_df = train_val_df.drop(train_df.index)\n",
    "    test_df = df.drop(train_val_df.index)\n",
    "    return train_df.reset_index(drop = True), val_df.reset_index(drop = True), test_df.reset_index(drop = True)"
   ]
  },
  {
   "cell_type": "code",
   "execution_count": 587,
   "metadata": {},
   "outputs": [
    {
     "name": "stderr",
     "output_type": "stream",
     "text": [
      "/root/.local/lib/python3.7/site-packages/pandas/core/frame.py:3509: SettingWithCopyWarning: \n",
      "A value is trying to be set on a copy of a slice from a DataFrame.\n",
      "Try using .loc[row_indexer,col_indexer] = value instead\n",
      "\n",
      "See the caveats in the documentation: http://pandas.pydata.org/pandas-docs/stable/user_guide/indexing.html#returning-a-view-versus-a-copy\n",
      "  self[k1] = value[k2]\n"
     ]
    }
   ],
   "source": [
    "#from student_utils import patient_dataset_splitter\n",
    "d_train, d_val, d_test = patient_dataset_splitter(processed_df, 'patient_nbr')"
   ]
  },
  {
   "cell_type": "code",
   "execution_count": 588,
   "metadata": {},
   "outputs": [
    {
     "name": "stdout",
     "output_type": "stream",
     "text": [
      "Test passed for number of total rows equal!\n"
     ]
    }
   ],
   "source": [
    "assert len(d_train) + len(d_val) + len(d_test) == len(processed_df)\n",
    "print(\"Test passed for number of total rows equal!\")"
   ]
  },
  {
   "cell_type": "code",
   "execution_count": 589,
   "metadata": {},
   "outputs": [
    {
     "name": "stdout",
     "output_type": "stream",
     "text": [
      "Test passed for number of unique patients being equal!\n"
     ]
    }
   ],
   "source": [
    "assert (d_train['patient_nbr'].nunique() + d_val['patient_nbr'].nunique() + d_test['patient_nbr'].nunique()) == agg_drug_df['patient_nbr'].nunique()\n",
    "print(\"Test passed for number of unique patients being equal!\")"
   ]
  },
  {
   "cell_type": "markdown",
   "metadata": {},
   "source": [
    "## Demographic Representation Analysis of Split"
   ]
  },
  {
   "cell_type": "markdown",
   "metadata": {},
   "source": [
    "After the split, we should check to see the distribution of key features/groups and make sure that there is representative samples across the partitions. The show_group_stats_viz function in the utils.py file can be used to group and visualize different groups and dataframe partitions."
   ]
  },
  {
   "cell_type": "markdown",
   "metadata": {},
   "source": [
    "### Label Distribution Across Partitions"
   ]
  },
  {
   "cell_type": "markdown",
   "metadata": {},
   "source": [
    "Below you can see the distributution of the label across your splits. Are the histogram distribution shapes similar across partitions?"
   ]
  },
  {
   "cell_type": "code",
   "execution_count": 590,
   "metadata": {},
   "outputs": [
    {
     "name": "stdout",
     "output_type": "stream",
     "text": [
      "time_in_hospital\n",
      "1.0     10717\n",
      "2.0     12397\n",
      "3.0     12701\n",
      "4.0     9567 \n",
      "5.0     6839 \n",
      "6.0     5171 \n",
      "7.0     3999 \n",
      "8.0     2919 \n",
      "9.0     1990 \n",
      "10.0    1558 \n",
      "11.0    1241 \n",
      "12.0    955  \n",
      "13.0    795  \n",
      "14.0    669  \n",
      "dtype: int64\n",
      "AxesSubplot(0.125,0.125;0.775x0.755)\n"
     ]
    },
    {
     "data": {
      "image/png": "[encoded data removed]",
      "text/plain": [
       "<Figure size 432x288 with 1 Axes>"
      ]
     },
     "metadata": {
      "needs_background": "light"
     },
     "output_type": "display_data"
    }
   ],
   "source": [
    "show_group_stats_viz(processed_df, PREDICTOR_FIELD)"
   ]
  },
  {
   "cell_type": "code",
   "execution_count": 591,
   "metadata": {},
   "outputs": [
    {
     "name": "stdout",
     "output_type": "stream",
     "text": [
      "time_in_hospital\n",
      "1.0     6904\n",
      "2.0     7978\n",
      "3.0     8116\n",
      "4.0     6141\n",
      "5.0     4341\n",
      "6.0     3294\n",
      "7.0     2542\n",
      "8.0     1846\n",
      "9.0     1259\n",
      "10.0    989 \n",
      "11.0    788 \n",
      "12.0    659 \n",
      "13.0    500 \n",
      "14.0    414 \n",
      "dtype: int64\n",
      "AxesSubplot(0.125,0.125;0.775x0.755)\n"
     ]
    },
    {
     "data": {
      "image/png": "[encoded data removed]",
      "text/plain": [
       "<Figure size 432x288 with 1 Axes>"
      ]
     },
     "metadata": {
      "needs_background": "light"
     },
     "output_type": "display_data"
    }
   ],
   "source": [
    "show_group_stats_viz(d_train, PREDICTOR_FIELD)"
   ]
  },
  {
   "cell_type": "code",
   "execution_count": 592,
   "metadata": {},
   "outputs": [
    {
     "name": "stdout",
     "output_type": "stream",
     "text": [
      "time_in_hospital\n",
      "1.0     2159\n",
      "2.0     2486\n",
      "3.0     2576\n",
      "4.0     1842\n",
      "5.0     1364\n",
      "6.0     1041\n",
      "7.0     814 \n",
      "8.0     584 \n",
      "9.0     404 \n",
      "10.0    307 \n",
      "11.0    242 \n",
      "12.0    182 \n",
      "13.0    165 \n",
      "14.0    138 \n",
      "dtype: int64\n",
      "AxesSubplot(0.125,0.125;0.775x0.755)\n"
     ]
    },
    {
     "data": {
      "image/png": "[encoded data removed]",
      "text/plain": [
       "<Figure size 432x288 with 1 Axes>"
      ]
     },
     "metadata": {
      "needs_background": "light"
     },
     "output_type": "display_data"
    }
   ],
   "source": [
    "show_group_stats_viz(d_test, PREDICTOR_FIELD)"
   ]
  },
  {
   "cell_type": "markdown",
   "metadata": {},
   "source": [
    "## Demographic Group Analysis"
   ]
  },
  {
   "cell_type": "markdown",
   "metadata": {},
   "source": [
    "We should check that our partitions/splits of the dataset are similar in terms of their demographic profiles. Below you can see how we might visualize and analyze the full dataset vs. the partitions."
   ]
  },
  {
   "cell_type": "code",
   "execution_count": 593,
   "metadata": {},
   "outputs": [
    {
     "name": "stdout",
     "output_type": "stream",
     "text": [
      "gender\n",
      "Female             38025\n",
      "Male               33490\n",
      "Unknown/Invalid    3    \n",
      "dtype: int64\n",
      "AxesSubplot(0.125,0.125;0.775x0.755)\n"
     ]
    },
    {
     "data": {
      "image/png": "[encoded data removed]",
      "text/plain": [
       "<Figure size 432x288 with 1 Axes>"
      ]
     },
     "metadata": {
      "needs_background": "light"
     },
     "output_type": "display_data"
    }
   ],
   "source": [
    "# Full dataset before splitting\n",
    "patient_demo_features = ['race', 'gender', 'age', 'patient_nbr']\n",
    "patient_group_analysis_df = processed_df[patient_demo_features].groupby('patient_nbr').head(1).reset_index(drop=True)\n",
    "show_group_stats_viz(patient_group_analysis_df, 'gender')"
   ]
  },
  {
   "cell_type": "code",
   "execution_count": 594,
   "metadata": {},
   "outputs": [
    {
     "name": "stdout",
     "output_type": "stream",
     "text": [
      "gender\n",
      "Female             24197\n",
      "Male               21572\n",
      "Unknown/Invalid    2    \n",
      "dtype: int64\n",
      "AxesSubplot(0.125,0.125;0.775x0.755)\n"
     ]
    },
    {
     "data": {
      "image/png": "[encoded data removed]",
      "text/plain": [
       "<Figure size 432x288 with 1 Axes>"
      ]
     },
     "metadata": {
      "needs_background": "light"
     },
     "output_type": "display_data"
    }
   ],
   "source": [
    "# Training partition\n",
    "show_group_stats_viz(d_train, 'gender')"
   ]
  },
  {
   "cell_type": "code",
   "execution_count": 595,
   "metadata": {},
   "outputs": [
    {
     "name": "stdout",
     "output_type": "stream",
     "text": [
      "gender\n",
      "Female             7631\n",
      "Male               6672\n",
      "Unknown/Invalid    1   \n",
      "dtype: int64\n",
      "AxesSubplot(0.125,0.125;0.775x0.755)\n"
     ]
    },
    {
     "data": {
      "image/png": "[encoded data removed]",
      "text/plain": [
       "<Figure size 432x288 with 1 Axes>"
      ]
     },
     "metadata": {
      "needs_background": "light"
     },
     "output_type": "display_data"
    }
   ],
   "source": [
    "# Test partition\n",
    "show_group_stats_viz(d_test, 'gender')"
   ]
  },
  {
   "cell_type": "markdown",
   "metadata": {},
   "source": [
    "\n",
    "\n",
    "\n",
    "## Convert Dataset Splits to TF Dataset"
   ]
  },
  {
   "cell_type": "markdown",
   "metadata": {},
   "source": [
    "We have provided you the function to convert the Pandas dataframe to TF tensors using the TF Dataset API. \n",
    "Please note that this is not a scalable method and for larger datasets, the 'make_csv_dataset' method is recommended -https://www.tensorflow.org/api_docs/python/tf/data/experimental/make_csv_dataset."
   ]
  },
  {
   "cell_type": "code",
   "execution_count": 596,
   "metadata": {},
   "outputs": [],
   "source": [
    "# Convert dataset from Pandas dataframes to TF dataset \n",
    "batch_size = 128\n",
    "diabetes_train_ds = df_to_dataset(d_train, PREDICTOR_FIELD, batch_size=batch_size)\n",
    "diabetes_val_ds = df_to_dataset(d_val, PREDICTOR_FIELD, batch_size=batch_size)\n",
    "diabetes_test_ds = df_to_dataset(d_test, PREDICTOR_FIELD, batch_size=batch_size)"
   ]
  },
  {
   "cell_type": "code",
   "execution_count": 597,
   "metadata": {},
   "outputs": [],
   "source": [
    "# We use this sample of the dataset to show transformations later\n",
    "diabetes_batch = next(iter(diabetes_train_ds))[0]\n",
    "def demo(feature_column, example_batch):\n",
    "    feature_layer = tf.keras.layers.DenseFeatures(feature_column)\n",
    "    print(feature_layer(example_batch))"
   ]
  },
  {
   "cell_type": "markdown",
   "metadata": {},
   "source": [
    "# 4. Create Categorical Features with TF Feature Columns"
   ]
  },
  {
   "cell_type": "markdown",
   "metadata": {},
   "source": [
    "## Build Vocabulary for Categorical Features"
   ]
  },
  {
   "cell_type": "markdown",
   "metadata": {},
   "source": [
    "Before we can create the TF categorical features, we must first create the vocab files with the unique values for a given field that are from the **training** dataset. Below we have provided a function that you can use that only requires providing the pandas train dataset partition and the list of the categorical columns in a list format. The output variable 'vocab_file_list' will be a list of the file paths that can be used in the next step for creating the categorical features."
   ]
  },
  {
   "cell_type": "code",
   "execution_count": 598,
   "metadata": {},
   "outputs": [],
   "source": [
    "vocab_file_list = build_vocab_files(d_train, student_categorical_col_list)"
   ]
  },
  {
   "cell_type": "code",
   "execution_count": 599,
   "metadata": {},
   "outputs": [],
   "source": [
    "assert len(vocab_file_list) == len(student_categorical_col_list)"
   ]
  },
  {
   "cell_type": "markdown",
   "metadata": {},
   "source": [
    "## Create Categorical Features with Tensorflow Feature Column API"
   ]
  },
  {
   "cell_type": "markdown",
   "metadata": {},
   "source": [
    "**Question 7**: Using the vocab file list from above that was derived fromt the features you selected earlier, please create categorical features with the Tensorflow Feature Column API, https://www.tensorflow.org/api_docs/python/tf/feature_column. Below is a function to help guide you."
   ]
  },
  {
   "cell_type": "code",
   "execution_count": 600,
   "metadata": {},
   "outputs": [
    {
     "name": "stdout",
     "output_type": "stream",
     "text": [
      "INFO:tensorflow:vocabulary_size = 3 in change is inferred from the number of elements in the vocabulary_file ./diabetes_vocab/change_vocab.txt.\n"
     ]
    },
    {
     "name": "stderr",
     "output_type": "stream",
     "text": [
      "INFO:tensorflow:vocabulary_size = 3 in change is inferred from the number of elements in the vocabulary_file ./diabetes_vocab/change_vocab.txt.\n"
     ]
    },
    {
     "name": "stdout",
     "output_type": "stream",
     "text": [
      "INFO:tensorflow:vocabulary_size = 654 in primary_diagnosis_code is inferred from the number of elements in the vocabulary_file ./diabetes_vocab/primary_diagnosis_code_vocab.txt.\n"
     ]
    },
    {
     "name": "stderr",
     "output_type": "stream",
     "text": [
      "INFO:tensorflow:vocabulary_size = 654 in primary_diagnosis_code is inferred from the number of elements in the vocabulary_file ./diabetes_vocab/primary_diagnosis_code_vocab.txt.\n"
     ]
    },
    {
     "name": "stdout",
     "output_type": "stream",
     "text": [
      "INFO:tensorflow:vocabulary_size = 7 in race is inferred from the number of elements in the vocabulary_file ./diabetes_vocab/race_vocab.txt.\n"
     ]
    },
    {
     "name": "stderr",
     "output_type": "stream",
     "text": [
      "INFO:tensorflow:vocabulary_size = 7 in race is inferred from the number of elements in the vocabulary_file ./diabetes_vocab/race_vocab.txt.\n"
     ]
    },
    {
     "name": "stdout",
     "output_type": "stream",
     "text": [
      "INFO:tensorflow:vocabulary_size = 4 in gender is inferred from the number of elements in the vocabulary_file ./diabetes_vocab/gender_vocab.txt.\n"
     ]
    },
    {
     "name": "stderr",
     "output_type": "stream",
     "text": [
      "INFO:tensorflow:vocabulary_size = 4 in gender is inferred from the number of elements in the vocabulary_file ./diabetes_vocab/gender_vocab.txt.\n"
     ]
    },
    {
     "name": "stdout",
     "output_type": "stream",
     "text": [
      "INFO:tensorflow:vocabulary_size = 11 in age is inferred from the number of elements in the vocabulary_file ./diabetes_vocab/age_vocab.txt.\n"
     ]
    },
    {
     "name": "stderr",
     "output_type": "stream",
     "text": [
      "INFO:tensorflow:vocabulary_size = 11 in age is inferred from the number of elements in the vocabulary_file ./diabetes_vocab/age_vocab.txt.\n"
     ]
    },
    {
     "name": "stdout",
     "output_type": "stream",
     "text": [
      "INFO:tensorflow:vocabulary_size = 4 in Acarbose is inferred from the number of elements in the vocabulary_file ./diabetes_vocab/Acarbose_vocab.txt.\n"
     ]
    },
    {
     "name": "stderr",
     "output_type": "stream",
     "text": [
      "INFO:tensorflow:vocabulary_size = 4 in Acarbose is inferred from the number of elements in the vocabulary_file ./diabetes_vocab/Acarbose_vocab.txt.\n"
     ]
    },
    {
     "name": "stdout",
     "output_type": "stream",
     "text": [
      "INFO:tensorflow:vocabulary_size = 4 in Glimepiride is inferred from the number of elements in the vocabulary_file ./diabetes_vocab/Glimepiride_vocab.txt.\n"
     ]
    },
    {
     "name": "stderr",
     "output_type": "stream",
     "text": [
      "INFO:tensorflow:vocabulary_size = 4 in Glimepiride is inferred from the number of elements in the vocabulary_file ./diabetes_vocab/Glimepiride_vocab.txt.\n"
     ]
    },
    {
     "name": "stdout",
     "output_type": "stream",
     "text": [
      "INFO:tensorflow:vocabulary_size = 4 in Glipizide is inferred from the number of elements in the vocabulary_file ./diabetes_vocab/Glipizide_vocab.txt.\n"
     ]
    },
    {
     "name": "stderr",
     "output_type": "stream",
     "text": [
      "INFO:tensorflow:vocabulary_size = 4 in Glipizide is inferred from the number of elements in the vocabulary_file ./diabetes_vocab/Glipizide_vocab.txt.\n"
     ]
    },
    {
     "name": "stdout",
     "output_type": "stream",
     "text": [
      "INFO:tensorflow:vocabulary_size = 4 in Glipizide_And_Metformin_Hcl is inferred from the number of elements in the vocabulary_file ./diabetes_vocab/Glipizide_And_Metformin_Hcl_vocab.txt.\n"
     ]
    },
    {
     "name": "stderr",
     "output_type": "stream",
     "text": [
      "INFO:tensorflow:vocabulary_size = 4 in Glipizide_And_Metformin_Hcl is inferred from the number of elements in the vocabulary_file ./diabetes_vocab/Glipizide_And_Metformin_Hcl_vocab.txt.\n"
     ]
    },
    {
     "name": "stdout",
     "output_type": "stream",
     "text": [
      "INFO:tensorflow:vocabulary_size = 4 in Glipizide_And_Metformin_Hydrochloride is inferred from the number of elements in the vocabulary_file ./diabetes_vocab/Glipizide_And_Metformin_Hydrochloride_vocab.txt.\n"
     ]
    },
    {
     "name": "stderr",
     "output_type": "stream",
     "text": [
      "INFO:tensorflow:vocabulary_size = 4 in Glipizide_And_Metformin_Hydrochloride is inferred from the number of elements in the vocabulary_file ./diabetes_vocab/Glipizide_And_Metformin_Hydrochloride_vocab.txt.\n"
     ]
    },
    {
     "name": "stdout",
     "output_type": "stream",
     "text": [
      "INFO:tensorflow:vocabulary_size = 4 in Glyburide is inferred from the number of elements in the vocabulary_file ./diabetes_vocab/Glyburide_vocab.txt.\n"
     ]
    },
    {
     "name": "stderr",
     "output_type": "stream",
     "text": [
      "INFO:tensorflow:vocabulary_size = 4 in Glyburide is inferred from the number of elements in the vocabulary_file ./diabetes_vocab/Glyburide_vocab.txt.\n"
     ]
    },
    {
     "name": "stdout",
     "output_type": "stream",
     "text": [
      "INFO:tensorflow:vocabulary_size = 4 in Glyburide_And_Metformin_Hydrochloride is inferred from the number of elements in the vocabulary_file ./diabetes_vocab/Glyburide_And_Metformin_Hydrochloride_vocab.txt.\n"
     ]
    },
    {
     "name": "stderr",
     "output_type": "stream",
     "text": [
      "INFO:tensorflow:vocabulary_size = 4 in Glyburide_And_Metformin_Hydrochloride is inferred from the number of elements in the vocabulary_file ./diabetes_vocab/Glyburide_And_Metformin_Hydrochloride_vocab.txt.\n"
     ]
    },
    {
     "name": "stdout",
     "output_type": "stream",
     "text": [
      "INFO:tensorflow:vocabulary_size = 4 in Glyburide-metformin_Hydrochloride is inferred from the number of elements in the vocabulary_file ./diabetes_vocab/Glyburide-metformin_Hydrochloride_vocab.txt.\n"
     ]
    },
    {
     "name": "stderr",
     "output_type": "stream",
     "text": [
      "INFO:tensorflow:vocabulary_size = 4 in Glyburide-metformin_Hydrochloride is inferred from the number of elements in the vocabulary_file ./diabetes_vocab/Glyburide-metformin_Hydrochloride_vocab.txt.\n"
     ]
    },
    {
     "name": "stdout",
     "output_type": "stream",
     "text": [
      "INFO:tensorflow:vocabulary_size = 4 in Human_Insulin is inferred from the number of elements in the vocabulary_file ./diabetes_vocab/Human_Insulin_vocab.txt.\n"
     ]
    },
    {
     "name": "stderr",
     "output_type": "stream",
     "text": [
      "INFO:tensorflow:vocabulary_size = 4 in Human_Insulin is inferred from the number of elements in the vocabulary_file ./diabetes_vocab/Human_Insulin_vocab.txt.\n"
     ]
    },
    {
     "name": "stdout",
     "output_type": "stream",
     "text": [
      "INFO:tensorflow:vocabulary_size = 4 in Insulin_Human is inferred from the number of elements in the vocabulary_file ./diabetes_vocab/Insulin_Human_vocab.txt.\n"
     ]
    },
    {
     "name": "stderr",
     "output_type": "stream",
     "text": [
      "INFO:tensorflow:vocabulary_size = 4 in Insulin_Human is inferred from the number of elements in the vocabulary_file ./diabetes_vocab/Insulin_Human_vocab.txt.\n"
     ]
    },
    {
     "name": "stdout",
     "output_type": "stream",
     "text": [
      "INFO:tensorflow:vocabulary_size = 4 in Metformin_Hcl is inferred from the number of elements in the vocabulary_file ./diabetes_vocab/Metformin_Hcl_vocab.txt.\n"
     ]
    },
    {
     "name": "stderr",
     "output_type": "stream",
     "text": [
      "INFO:tensorflow:vocabulary_size = 4 in Metformin_Hcl is inferred from the number of elements in the vocabulary_file ./diabetes_vocab/Metformin_Hcl_vocab.txt.\n"
     ]
    },
    {
     "name": "stdout",
     "output_type": "stream",
     "text": [
      "INFO:tensorflow:vocabulary_size = 4 in Metformin_Hydrochloride is inferred from the number of elements in the vocabulary_file ./diabetes_vocab/Metformin_Hydrochloride_vocab.txt.\n"
     ]
    },
    {
     "name": "stderr",
     "output_type": "stream",
     "text": [
      "INFO:tensorflow:vocabulary_size = 4 in Metformin_Hydrochloride is inferred from the number of elements in the vocabulary_file ./diabetes_vocab/Metformin_Hydrochloride_vocab.txt.\n"
     ]
    },
    {
     "name": "stdout",
     "output_type": "stream",
     "text": [
      "INFO:tensorflow:vocabulary_size = 4 in Miglitol is inferred from the number of elements in the vocabulary_file ./diabetes_vocab/Miglitol_vocab.txt.\n"
     ]
    },
    {
     "name": "stderr",
     "output_type": "stream",
     "text": [
      "INFO:tensorflow:vocabulary_size = 4 in Miglitol is inferred from the number of elements in the vocabulary_file ./diabetes_vocab/Miglitol_vocab.txt.\n"
     ]
    },
    {
     "name": "stdout",
     "output_type": "stream",
     "text": [
      "INFO:tensorflow:vocabulary_size = 4 in Nateglinide is inferred from the number of elements in the vocabulary_file ./diabetes_vocab/Nateglinide_vocab.txt.\n"
     ]
    },
    {
     "name": "stderr",
     "output_type": "stream",
     "text": [
      "INFO:tensorflow:vocabulary_size = 4 in Nateglinide is inferred from the number of elements in the vocabulary_file ./diabetes_vocab/Nateglinide_vocab.txt.\n"
     ]
    },
    {
     "name": "stdout",
     "output_type": "stream",
     "text": [
      "INFO:tensorflow:vocabulary_size = 4 in Pioglitazole_And_Metformin_Hydrochloride is inferred from the number of elements in the vocabulary_file ./diabetes_vocab/Pioglitazole_And_Metformin_Hydrochloride_vocab.txt.\n"
     ]
    },
    {
     "name": "stderr",
     "output_type": "stream",
     "text": [
      "INFO:tensorflow:vocabulary_size = 4 in Pioglitazole_And_Metformin_Hydrochloride is inferred from the number of elements in the vocabulary_file ./diabetes_vocab/Pioglitazole_And_Metformin_Hydrochloride_vocab.txt.\n"
     ]
    },
    {
     "name": "stdout",
     "output_type": "stream",
     "text": [
      "INFO:tensorflow:vocabulary_size = 4 in Pioglitazone is inferred from the number of elements in the vocabulary_file ./diabetes_vocab/Pioglitazone_vocab.txt.\n"
     ]
    },
    {
     "name": "stderr",
     "output_type": "stream",
     "text": [
      "INFO:tensorflow:vocabulary_size = 4 in Pioglitazone is inferred from the number of elements in the vocabulary_file ./diabetes_vocab/Pioglitazone_vocab.txt.\n"
     ]
    },
    {
     "name": "stdout",
     "output_type": "stream",
     "text": [
      "INFO:tensorflow:vocabulary_size = 4 in Pioglitazone_Hydrochloride_And_Glimepiride is inferred from the number of elements in the vocabulary_file ./diabetes_vocab/Pioglitazone_Hydrochloride_And_Glimepiride_vocab.txt.\n"
     ]
    },
    {
     "name": "stderr",
     "output_type": "stream",
     "text": [
      "INFO:tensorflow:vocabulary_size = 4 in Pioglitazone_Hydrochloride_And_Glimepiride is inferred from the number of elements in the vocabulary_file ./diabetes_vocab/Pioglitazone_Hydrochloride_And_Glimepiride_vocab.txt.\n"
     ]
    },
    {
     "name": "stdout",
     "output_type": "stream",
     "text": [
      "INFO:tensorflow:vocabulary_size = 4 in Repaglinide is inferred from the number of elements in the vocabulary_file ./diabetes_vocab/Repaglinide_vocab.txt.\n"
     ]
    },
    {
     "name": "stderr",
     "output_type": "stream",
     "text": [
      "INFO:tensorflow:vocabulary_size = 4 in Repaglinide is inferred from the number of elements in the vocabulary_file ./diabetes_vocab/Repaglinide_vocab.txt.\n"
     ]
    },
    {
     "name": "stdout",
     "output_type": "stream",
     "text": [
      "INFO:tensorflow:vocabulary_size = 4 in Rosiglitazone_Maleate is inferred from the number of elements in the vocabulary_file ./diabetes_vocab/Rosiglitazone_Maleate_vocab.txt.\n"
     ]
    },
    {
     "name": "stderr",
     "output_type": "stream",
     "text": [
      "INFO:tensorflow:vocabulary_size = 4 in Rosiglitazone_Maleate is inferred from the number of elements in the vocabulary_file ./diabetes_vocab/Rosiglitazone_Maleate_vocab.txt.\n"
     ]
    },
    {
     "name": "stdout",
     "output_type": "stream",
     "text": [
      "INFO:tensorflow:vocabulary_size = 4 in Tolazamide is inferred from the number of elements in the vocabulary_file ./diabetes_vocab/Tolazamide_vocab.txt.\n"
     ]
    },
    {
     "name": "stderr",
     "output_type": "stream",
     "text": [
      "INFO:tensorflow:vocabulary_size = 4 in Tolazamide is inferred from the number of elements in the vocabulary_file ./diabetes_vocab/Tolazamide_vocab.txt.\n"
     ]
    },
    {
     "name": "stdout",
     "output_type": "stream",
     "text": [
      "INFO:tensorflow:vocabulary_size = 4 in Tolbutamide is inferred from the number of elements in the vocabulary_file ./diabetes_vocab/Tolbutamide_vocab.txt.\n"
     ]
    },
    {
     "name": "stderr",
     "output_type": "stream",
     "text": [
      "INFO:tensorflow:vocabulary_size = 4 in Tolbutamide is inferred from the number of elements in the vocabulary_file ./diabetes_vocab/Tolbutamide_vocab.txt.\n"
     ]
    }
   ],
   "source": [
    "def create_tf_categorical_feature_cols(categorical_col_list,\n",
    "                              vocab_dir='./diabetes_vocab/'):\n",
    "    '''\n",
    "    categorical_col_list: list, categorical field list that will be transformed with TF feature column\n",
    "    vocab_dir: string, the path where the vocabulary text files are located\n",
    "    return:\n",
    "        output_tf_list: list of TF feature columns\n",
    "    '''\n",
    "    output_tf_list = []\n",
    "    for c in categorical_col_list:\n",
    "        vocab_file_path = os.path.join(vocab_dir,  c + \"_vocab.txt\")\n",
    "        '''\n",
    "        Which TF function allows you to read from a text file and create a categorical feature\n",
    "        You can use a pattern like this below...\n",
    "        tf_categorical_feature_column = tf.feature_column.......\n",
    "\n",
    "        '''\n",
    "        diagnosis_vocab = tf.feature_column.categorical_column_with_vocabulary_file(c, vocab_file_path, num_oov_buckets = 1)\n",
    "        tf_categorical_feature_column = tf.feature_column.indicator_column(diagnosis_vocab)\n",
    "        output_tf_list.append(tf_categorical_feature_column)\n",
    "    return output_tf_list\n",
    "tf_cat_col_list = create_tf_categorical_feature_cols(student_categorical_col_list)"
   ]
  },
  {
   "cell_type": "code",
   "execution_count": 601,
   "metadata": {
    "scrolled": true
   },
   "outputs": [
    {
     "name": "stdout",
     "output_type": "stream",
     "text": [
      "Example categorical field:\n",
      "IndicatorColumn(categorical_column=VocabularyFileCategoricalColumn(key='change', vocabulary_file='./diabetes_vocab/change_vocab.txt', vocabulary_size=3, num_oov_buckets=1, dtype=tf.string, default_value=-1))\n",
      "WARNING:tensorflow:Layer dense_features_27 is casting an input tensor from dtype float64 to the layer's dtype of float32, which is new behavior in TensorFlow 2.  The layer has dtype float32 because it's dtype defaults to floatx.\n",
      "\n",
      "If you intended to run this layer in float32, you can safely ignore this warning. If in doubt, this warning is likely only an issue if you are porting a TensorFlow 1.X model to TensorFlow 2.\n",
      "\n",
      "To change all layers to have dtype float64 by default, call `tf.keras.backend.set_floatx('float64')`. To change just this layer, pass dtype='float64' to the layer constructor. If you are the author of this layer, you can disable autocasting by passing autocast=False to the base Layer constructor.\n",
      "\n"
     ]
    },
    {
     "name": "stderr",
     "output_type": "stream",
     "text": [
      "WARNING:tensorflow:Layer dense_features_27 is casting an input tensor from dtype float64 to the layer's dtype of float32, which is new behavior in TensorFlow 2.  The layer has dtype float32 because it's dtype defaults to floatx.\n",
      "\n",
      "If you intended to run this layer in float32, you can safely ignore this warning. If in doubt, this warning is likely only an issue if you are porting a TensorFlow 1.X model to TensorFlow 2.\n",
      "\n",
      "To change all layers to have dtype float64 by default, call `tf.keras.backend.set_floatx('float64')`. To change just this layer, pass dtype='float64' to the layer constructor. If you are the author of this layer, you can disable autocasting by passing autocast=False to the base Layer constructor.\n",
      "\n"
     ]
    },
    {
     "name": "stdout",
     "output_type": "stream",
     "text": [
      "tf.Tensor(\n",
      "[[0. 1. 0. 0.]\n",
      " [0. 1. 0. 0.]\n",
      " [0. 0. 1. 0.]\n",
      " [0. 1. 0. 0.]\n",
      " [0. 1. 0. 0.]\n",
      " [0. 0. 1. 0.]\n",
      " [0. 0. 1. 0.]\n",
      " [0. 1. 0. 0.]\n",
      " [0. 0. 1. 0.]\n",
      " [0. 1. 0. 0.]\n",
      " [0. 0. 1. 0.]\n",
      " [0. 1. 0. 0.]\n",
      " [0. 1. 0. 0.]\n",
      " [0. 1. 0. 0.]\n",
      " [0. 0. 1. 0.]\n",
      " [0. 0. 1. 0.]\n",
      " [0. 0. 1. 0.]\n",
      " [0. 0. 1. 0.]\n",
      " [0. 1. 0. 0.]\n",
      " [0. 1. 0. 0.]\n",
      " [0. 0. 1. 0.]\n",
      " [0. 1. 0. 0.]\n",
      " [0. 0. 1. 0.]\n",
      " [0. 0. 1. 0.]\n",
      " [0. 1. 0. 0.]\n",
      " [0. 1. 0. 0.]\n",
      " [0. 1. 0. 0.]\n",
      " [0. 1. 0. 0.]\n",
      " [0. 0. 1. 0.]\n",
      " [0. 0. 1. 0.]\n",
      " [0. 1. 0. 0.]\n",
      " [0. 1. 0. 0.]\n",
      " [0. 1. 0. 0.]\n",
      " [0. 1. 0. 0.]\n",
      " [0. 0. 1. 0.]\n",
      " [0. 1. 0. 0.]\n",
      " [0. 1. 0. 0.]\n",
      " [0. 1. 0. 0.]\n",
      " [0. 0. 1. 0.]\n",
      " [0. 0. 1. 0.]\n",
      " [0. 1. 0. 0.]\n",
      " [0. 0. 1. 0.]\n",
      " [0. 1. 0. 0.]\n",
      " [0. 1. 0. 0.]\n",
      " [0. 1. 0. 0.]\n",
      " [0. 1. 0. 0.]\n",
      " [0. 1. 0. 0.]\n",
      " [0. 1. 0. 0.]\n",
      " [0. 0. 1. 0.]\n",
      " [0. 0. 1. 0.]\n",
      " [0. 0. 1. 0.]\n",
      " [0. 1. 0. 0.]\n",
      " [0. 1. 0. 0.]\n",
      " [0. 0. 1. 0.]\n",
      " [0. 0. 1. 0.]\n",
      " [0. 1. 0. 0.]\n",
      " [0. 1. 0. 0.]\n",
      " [0. 1. 0. 0.]\n",
      " [0. 1. 0. 0.]\n",
      " [0. 0. 1. 0.]\n",
      " [0. 0. 1. 0.]\n",
      " [0. 1. 0. 0.]\n",
      " [0. 1. 0. 0.]\n",
      " [0. 0. 1. 0.]\n",
      " [0. 0. 1. 0.]\n",
      " [0. 1. 0. 0.]\n",
      " [0. 1. 0. 0.]\n",
      " [0. 0. 1. 0.]\n",
      " [0. 0. 1. 0.]\n",
      " [0. 1. 0. 0.]\n",
      " [0. 0. 1. 0.]\n",
      " [0. 1. 0. 0.]\n",
      " [0. 0. 1. 0.]\n",
      " [0. 1. 0. 0.]\n",
      " [0. 0. 1. 0.]\n",
      " [0. 1. 0. 0.]\n",
      " [0. 0. 1. 0.]\n",
      " [0. 0. 1. 0.]\n",
      " [0. 1. 0. 0.]\n",
      " [0. 0. 1. 0.]\n",
      " [0. 0. 1. 0.]\n",
      " [0. 1. 0. 0.]\n",
      " [0. 1. 0. 0.]\n",
      " [0. 0. 1. 0.]\n",
      " [0. 1. 0. 0.]\n",
      " [0. 1. 0. 0.]\n",
      " [0. 0. 1. 0.]\n",
      " [0. 1. 0. 0.]\n",
      " [0. 0. 1. 0.]\n",
      " [0. 1. 0. 0.]\n",
      " [0. 1. 0. 0.]\n",
      " [0. 1. 0. 0.]\n",
      " [0. 0. 1. 0.]\n",
      " [0. 1. 0. 0.]\n",
      " [0. 0. 1. 0.]\n",
      " [0. 1. 0. 0.]\n",
      " [0. 0. 1. 0.]\n",
      " [0. 1. 0. 0.]\n",
      " [0. 0. 1. 0.]\n",
      " [0. 1. 0. 0.]\n",
      " [0. 1. 0. 0.]\n",
      " [0. 1. 0. 0.]\n",
      " [0. 0. 1. 0.]\n",
      " [0. 1. 0. 0.]\n",
      " [0. 1. 0. 0.]\n",
      " [0. 0. 1. 0.]\n",
      " [0. 1. 0. 0.]\n",
      " [0. 0. 1. 0.]\n",
      " [0. 1. 0. 0.]\n",
      " [0. 1. 0. 0.]\n",
      " [0. 0. 1. 0.]\n",
      " [0. 0. 1. 0.]\n",
      " [0. 1. 0. 0.]\n",
      " [0. 1. 0. 0.]\n",
      " [0. 1. 0. 0.]\n",
      " [0. 1. 0. 0.]\n",
      " [0. 0. 1. 0.]\n",
      " [0. 0. 1. 0.]\n",
      " [0. 1. 0. 0.]\n",
      " [0. 1. 0. 0.]\n",
      " [0. 1. 0. 0.]\n",
      " [0. 1. 0. 0.]\n",
      " [0. 0. 1. 0.]\n",
      " [0. 1. 0. 0.]\n",
      " [0. 0. 1. 0.]\n",
      " [0. 0. 1. 0.]\n",
      " [0. 0. 1. 0.]\n",
      " [0. 1. 0. 0.]], shape=(128, 4), dtype=float32)\n"
     ]
    }
   ],
   "source": [
    "test_cat_var1 = tf_cat_col_list[0]\n",
    "print(\"Example categorical field:\\n{}\".format(test_cat_var1))\n",
    "demo(test_cat_var1, diabetes_batch)"
   ]
  },
  {
   "cell_type": "markdown",
   "metadata": {},
   "source": [
    "# 5. Create Numerical Features with TF Feature Columns"
   ]
  },
  {
   "cell_type": "markdown",
   "metadata": {},
   "source": [
    "**Question 8**: Using the TF Feature Column API(https://www.tensorflow.org/api_docs/python/tf/feature_column/), please create normalized Tensorflow numeric features for the model. Try to use the z-score normalizer function below to help as well as the 'calculate_stats_from_train_data' function."
   ]
  },
  {
   "cell_type": "code",
   "execution_count": 602,
   "metadata": {},
   "outputs": [],
   "source": [
    "from student_utils import create_tf_numeric_feature\n",
    "def create_tf_numeric_feature(col, MEAN, STD, default_value=0):\n",
    "    '''\n",
    "    col: string, input numerical column name\n",
    "    MEAN: the mean for the column in the training data\n",
    "    STD: the standard deviation for the column in the training data\n",
    "    default_value: the value that will be used for imputing the field\n",
    "\n",
    "    return:\n",
    "        tf_numeric_feature: tf feature column representation of the input field\n",
    "    '''\n",
    "    normalizer_fn = lambda col, m, s : (col - m) / s\n",
    "    normalizer = partial(normalizer_fn, m = MEAN, s = STD)\n",
    "    tf_numeric_feature = tf.feature_column.numeric_column(col, normalizer_fn = normalizer, dtype = tf.float64,\n",
    "                                                         default_value = default_value)\n",
    "    return tf_numeric_feature"
   ]
  },
  {
   "cell_type": "markdown",
   "metadata": {},
   "source": [
    "For simplicity the create_tf_numerical_feature_cols function below uses the same normalizer function across all features(z-score normalization) but if you have time feel free to analyze and adapt the normalizer based off the statistical distributions. You may find this as a good resource in determining which transformation fits best for the data https://developers.google.com/machine-learning/data-prep/transform/normalization.\n"
   ]
  },
  {
   "cell_type": "code",
   "execution_count": 603,
   "metadata": {},
   "outputs": [],
   "source": [
    "def calculate_stats_from_train_data(df, col):\n",
    "    mean = df[col].describe()['mean']\n",
    "    std = df[col].describe()['std']\n",
    "    return mean, std\n",
    "\n",
    "def create_tf_numerical_feature_cols(numerical_col_list, train_df):\n",
    "    tf_numeric_col_list = []\n",
    "    for c in numerical_col_list:\n",
    "        mean, std = calculate_stats_from_train_data(train_df, c)\n",
    "        tf_numeric_feature = create_tf_numeric_feature(c, mean, std)\n",
    "        tf_numeric_col_list.append(tf_numeric_feature)\n",
    "    return tf_numeric_col_list"
   ]
  },
  {
   "cell_type": "code",
   "execution_count": 604,
   "metadata": {},
   "outputs": [],
   "source": [
    "tf_cont_col_list = create_tf_numerical_feature_cols(student_numerical_col_list, d_train)"
   ]
  },
  {
   "cell_type": "code",
   "execution_count": 605,
   "metadata": {
    "scrolled": true
   },
   "outputs": [
    {
     "name": "stdout",
     "output_type": "stream",
     "text": [
      "Example continuous field:\n",
      "NumericColumn(key='number_inpatient', shape=(1,), default_value=(0,), dtype=tf.float64, normalizer_fn=functools.partial(<function create_tf_numeric_feature.<locals>.<lambda> at 0x7f7ffe9b6290>, m=0.17600664176006642, s=0.6009985590232482))\n",
      "\n",
      "WARNING:tensorflow:Layer dense_features_28 is casting an input tensor from dtype float64 to the layer's dtype of float32, which is new behavior in TensorFlow 2.  The layer has dtype float32 because it's dtype defaults to floatx.\n",
      "\n",
      "If you intended to run this layer in float32, you can safely ignore this warning. If in doubt, this warning is likely only an issue if you are porting a TensorFlow 1.X model to TensorFlow 2.\n",
      "\n",
      "To change all layers to have dtype float64 by default, call `tf.keras.backend.set_floatx('float64')`. To change just this layer, pass dtype='float64' to the layer constructor. If you are the author of this layer, you can disable autocasting by passing autocast=False to the base Layer constructor.\n",
      "\n"
     ]
    },
    {
     "name": "stderr",
     "output_type": "stream",
     "text": [
      "WARNING:tensorflow:Layer dense_features_28 is casting an input tensor from dtype float64 to the layer's dtype of float32, which is new behavior in TensorFlow 2.  The layer has dtype float32 because it's dtype defaults to floatx.\n",
      "\n",
      "If you intended to run this layer in float32, you can safely ignore this warning. If in doubt, this warning is likely only an issue if you are porting a TensorFlow 1.X model to TensorFlow 2.\n",
      "\n",
      "To change all layers to have dtype float64 by default, call `tf.keras.backend.set_floatx('float64')`. To change just this layer, pass dtype='float64' to the layer constructor. If you are the author of this layer, you can disable autocasting by passing autocast=False to the base Layer constructor.\n",
      "\n"
     ]
    },
    {
     "name": "stdout",
     "output_type": "stream",
     "text": [
      "tf.Tensor(\n",
      "[[-0.292857 ]\n",
      " [-0.292857 ]\n",
      " [-0.292857 ]\n",
      " [-0.292857 ]\n",
      " [ 4.6988354]\n",
      " [-0.292857 ]\n",
      " [ 3.0349379]\n",
      " [-0.292857 ]\n",
      " [-0.292857 ]\n",
      " [-0.292857 ]\n",
      " [-0.292857 ]\n",
      " [-0.292857 ]\n",
      " [-0.292857 ]\n",
      " [-0.292857 ]\n",
      " [-0.292857 ]\n",
      " [-0.292857 ]\n",
      " [-0.292857 ]\n",
      " [-0.292857 ]\n",
      " [-0.292857 ]\n",
      " [ 1.3710403]\n",
      " [-0.292857 ]\n",
      " [-0.292857 ]\n",
      " [-0.292857 ]\n",
      " [ 3.0349379]\n",
      " [-0.292857 ]\n",
      " [-0.292857 ]\n",
      " [ 1.3710403]\n",
      " [-0.292857 ]\n",
      " [-0.292857 ]\n",
      " [-0.292857 ]\n",
      " [-0.292857 ]\n",
      " [-0.292857 ]\n",
      " [-0.292857 ]\n",
      " [-0.292857 ]\n",
      " [-0.292857 ]\n",
      " [-0.292857 ]\n",
      " [-0.292857 ]\n",
      " [-0.292857 ]\n",
      " [-0.292857 ]\n",
      " [-0.292857 ]\n",
      " [-0.292857 ]\n",
      " [-0.292857 ]\n",
      " [-0.292857 ]\n",
      " [-0.292857 ]\n",
      " [-0.292857 ]\n",
      " [-0.292857 ]\n",
      " [ 1.3710403]\n",
      " [-0.292857 ]\n",
      " [-0.292857 ]\n",
      " [-0.292857 ]\n",
      " [-0.292857 ]\n",
      " [-0.292857 ]\n",
      " [-0.292857 ]\n",
      " [-0.292857 ]\n",
      " [-0.292857 ]\n",
      " [-0.292857 ]\n",
      " [-0.292857 ]\n",
      " [-0.292857 ]\n",
      " [-0.292857 ]\n",
      " [-0.292857 ]\n",
      " [-0.292857 ]\n",
      " [ 1.3710403]\n",
      " [-0.292857 ]\n",
      " [ 1.3710403]\n",
      " [ 1.3710403]\n",
      " [-0.292857 ]\n",
      " [-0.292857 ]\n",
      " [-0.292857 ]\n",
      " [ 1.3710403]\n",
      " [-0.292857 ]\n",
      " [-0.292857 ]\n",
      " [-0.292857 ]\n",
      " [-0.292857 ]\n",
      " [-0.292857 ]\n",
      " [-0.292857 ]\n",
      " [-0.292857 ]\n",
      " [-0.292857 ]\n",
      " [-0.292857 ]\n",
      " [-0.292857 ]\n",
      " [-0.292857 ]\n",
      " [-0.292857 ]\n",
      " [-0.292857 ]\n",
      " [-0.292857 ]\n",
      " [-0.292857 ]\n",
      " [-0.292857 ]\n",
      " [-0.292857 ]\n",
      " [-0.292857 ]\n",
      " [-0.292857 ]\n",
      " [-0.292857 ]\n",
      " [-0.292857 ]\n",
      " [-0.292857 ]\n",
      " [-0.292857 ]\n",
      " [-0.292857 ]\n",
      " [ 1.3710403]\n",
      " [-0.292857 ]\n",
      " [-0.292857 ]\n",
      " [-0.292857 ]\n",
      " [-0.292857 ]\n",
      " [ 1.3710403]\n",
      " [-0.292857 ]\n",
      " [-0.292857 ]\n",
      " [-0.292857 ]\n",
      " [-0.292857 ]\n",
      " [-0.292857 ]\n",
      " [-0.292857 ]\n",
      " [-0.292857 ]\n",
      " [-0.292857 ]\n",
      " [-0.292857 ]\n",
      " [-0.292857 ]\n",
      " [ 1.3710403]\n",
      " [-0.292857 ]\n",
      " [-0.292857 ]\n",
      " [ 1.3710403]\n",
      " [-0.292857 ]\n",
      " [ 1.3710403]\n",
      " [ 1.3710403]\n",
      " [-0.292857 ]\n",
      " [-0.292857 ]\n",
      " [ 1.3710403]\n",
      " [-0.292857 ]\n",
      " [-0.292857 ]\n",
      " [-0.292857 ]\n",
      " [-0.292857 ]\n",
      " [-0.292857 ]\n",
      " [-0.292857 ]\n",
      " [-0.292857 ]\n",
      " [-0.292857 ]\n",
      " [-0.292857 ]], shape=(128, 1), dtype=float32)\n"
     ]
    }
   ],
   "source": [
    "test_cont_var1 = tf_cont_col_list[0]\n",
    "print(\"Example continuous field:\\n{}\\n\".format(test_cont_var1))\n",
    "demo(test_cont_var1, diabetes_batch)"
   ]
  },
  {
   "cell_type": "markdown",
   "metadata": {},
   "source": [
    "# 6. Build Deep Learning Regression Model with Sequential API and TF Probability Layers"
   ]
  },
  {
   "cell_type": "markdown",
   "metadata": {},
   "source": [
    "## Use DenseFeatures to combine features for model"
   ]
  },
  {
   "cell_type": "markdown",
   "metadata": {},
   "source": [
    "Now that we have prepared categorical and numerical features using Tensorflow's Feature Column API, we can combine them into a dense vector representation for the model. Below we will create this new input layer, which we will call 'claim_feature_layer'."
   ]
  },
  {
   "cell_type": "code",
   "execution_count": 606,
   "metadata": {},
   "outputs": [],
   "source": [
    "claim_feature_columns = tf_cat_col_list + tf_cont_col_list\n",
    "claim_feature_layer = tf.keras.layers.DenseFeatures(claim_feature_columns)"
   ]
  },
  {
   "cell_type": "markdown",
   "metadata": {},
   "source": [
    "## Build Sequential API Model from DenseFeatures and TF Probability Layers"
   ]
  },
  {
   "cell_type": "markdown",
   "metadata": {},
   "source": [
    "Below we have provided some boilerplate code for building a model that connects the Sequential API, DenseFeatures, and Tensorflow Probability layers into a deep learning model. There are many opportunities to further optimize and explore different architectures through benchmarking and testing approaches in various research papers, loss and evaluation metrics, learning curves, hyperparameter tuning, TF probability layers, etc. Feel free to modify and explore as you wish."
   ]
  },
  {
   "cell_type": "markdown",
   "metadata": {},
   "source": [
    "**OPTIONAL**: Come up with a more optimal neural network architecture and hyperparameters. Share the process in discovering the architecture and hyperparameters."
   ]
  },
  {
   "cell_type": "code",
   "execution_count": 607,
   "metadata": {},
   "outputs": [],
   "source": [
    "def build_sequential_model(feature_layer):\n",
    "    model = tf.keras.Sequential([\n",
    "        feature_layer,\n",
    "        tf.keras.layers.Dense(512, activation='relu'),\n",
    "        tf.keras.layers.Dense(128, activation='relu'),\n",
    "        tf.keras.layers.Dense(64, activation='relu'),\n",
    "        tfp.layers.DenseVariational(1+1, posterior_mean_field, prior_trainable),\n",
    "        tfp.layers.DistributionLambda(\n",
    "            lambda t:tfp.distributions.Normal(loc=t[..., :1],\n",
    "                                             scale=1e-3 + tf.math.softplus(0.01 * t[...,1:])\n",
    "                                             )\n",
    "        ),\n",
    "    ])\n",
    "    return model\n",
    "\n",
    "def build_diabetes_model(train_ds, val_ds,  feature_layer,  epochs=5, loss_metric='mse'):\n",
    "    model = build_sequential_model(feature_layer)\n",
    "    model.compile(optimizer='rmsprop', loss=loss_metric, metrics=[loss_metric])\n",
    "    early_stop = tf.keras.callbacks.EarlyStopping(monitor=loss_metric, patience=3)   \n",
    "    model_checkpoint = tf.keras.callbacks.ModelCheckpoint('saved_models/bestmodel.h5', monitor='val_loss', verbose=0, save_best_only=True, mode='auto')\n",
    "    history = model.fit(train_ds, validation_data=val_ds,\n",
    "                        callbacks=[early_stop],\n",
    "                        epochs=epochs)\n",
    "    return model, history "
   ]
  },
  {
   "cell_type": "code",
   "execution_count": 608,
   "metadata": {},
   "outputs": [
    {
     "name": "stdout",
     "output_type": "stream",
     "text": [
      "Train for 358 steps, validate for 90 steps\n",
      "Epoch 1/20\n",
      "358/358 [==============================] - 12s 33ms/step - loss: 25.3230 - mse: 25.1798 - val_loss: 22.8669 - val_mse: 22.5741\n",
      "Epoch 2/20\n",
      "358/358 [==============================] - 13s 36ms/step - loss: 15.7285 - mse: 15.1443 - val_loss: 13.9822 - val_mse: 13.2914\n",
      "Epoch 3/20\n",
      "358/358 [==============================] - 13s 37ms/step - loss: 12.7352 - mse: 11.9670 - val_loss: 11.7411 - val_mse: 11.0843\n",
      "Epoch 4/20\n",
      "358/358 [==============================] - 13s 35ms/step - loss: 11.2485 - mse: 10.4313 - val_loss: 10.4873 - val_mse: 9.5640\n",
      "Epoch 5/20\n",
      "358/358 [==============================] - 13s 35ms/step - loss: 10.3242 - mse: 9.5285 - val_loss: 9.8177 - val_mse: 9.1636\n",
      "Epoch 6/20\n",
      "358/358 [==============================] - 8s 24ms/step - loss: 10.2267 - mse: 9.4504 - val_loss: 10.4423 - val_mse: 9.6653\n",
      "Epoch 7/20\n",
      "358/358 [==============================] - 13s 35ms/step - loss: 9.2538 - mse: 8.3019 - val_loss: 9.8968 - val_mse: 9.1000\n",
      "Epoch 8/20\n",
      "358/358 [==============================] - 13s 37ms/step - loss: 8.9934 - mse: 8.1093 - val_loss: 8.8550 - val_mse: 8.1466\n",
      "Epoch 9/20\n",
      "358/358 [==============================] - 13s 36ms/step - loss: 8.7026 - mse: 7.9876 - val_loss: 9.2839 - val_mse: 8.8448\n",
      "Epoch 10/20\n",
      "358/358 [==============================] - 13s 37ms/step - loss: 8.5294 - mse: 7.6984 - val_loss: 8.0266 - val_mse: 7.2838\n",
      "Epoch 11/20\n",
      "358/358 [==============================] - 8s 23ms/step - loss: 8.5896 - mse: 7.7653 - val_loss: 7.9876 - val_mse: 7.3438\n",
      "Epoch 12/20\n",
      "358/358 [==============================] - 8s 23ms/step - loss: 8.1592 - mse: 7.3578 - val_loss: 8.5204 - val_mse: 7.5046\n",
      "Epoch 13/20\n",
      "358/358 [==============================] - 8s 23ms/step - loss: 8.1387 - mse: 7.3121 - val_loss: 8.0225 - val_mse: 7.3049\n",
      "Epoch 14/20\n",
      "358/358 [==============================] - 8s 23ms/step - loss: 7.8314 - mse: 7.0780 - val_loss: 7.9314 - val_mse: 7.0396\n",
      "Epoch 15/20\n",
      "358/358 [==============================] - 10s 27ms/step - loss: 7.5737 - mse: 6.7585 - val_loss: 7.8283 - val_mse: 7.0017\n",
      "Epoch 16/20\n",
      "358/358 [==============================] - 8s 21ms/step - loss: 7.5256 - mse: 6.8017 - val_loss: 7.5964 - val_mse: 6.9889\n",
      "Epoch 17/20\n",
      "358/358 [==============================] - 8s 21ms/step - loss: 7.5827 - mse: 6.7757 - val_loss: 7.8556 - val_mse: 7.1059\n",
      "Epoch 18/20\n",
      "358/358 [==============================] - 8s 21ms/step - loss: 7.4014 - mse: 6.5900 - val_loss: 7.4390 - val_mse: 6.5678\n",
      "Epoch 19/20\n",
      "358/358 [==============================] - 8s 22ms/step - loss: 7.3756 - mse: 6.5670 - val_loss: 7.4403 - val_mse: 6.6895\n",
      "Epoch 20/20\n",
      "358/358 [==============================] - 8s 22ms/step - loss: 7.1834 - mse: 6.3069 - val_loss: 7.8813 - val_mse: 7.2031\n"
     ]
    }
   ],
   "source": [
    "diabetes_model, history = build_diabetes_model(diabetes_train_ds, diabetes_val_ds,  claim_feature_layer,  epochs=20)"
   ]
  },
  {
   "cell_type": "markdown",
   "metadata": {},
   "source": [
    "## Show Model Uncertainty Range with TF Probability"
   ]
  },
  {
   "cell_type": "markdown",
   "metadata": {},
   "source": [
    "**Question 9**: Now that we have trained a model with TF Probability layers, we can extract the mean and standard deviation for each prediction. Please fill in the answer for the m and s variables below. The code for getting the predictions is provided for you below."
   ]
  },
  {
   "cell_type": "code",
   "execution_count": 609,
   "metadata": {},
   "outputs": [],
   "source": [
    "feature_list = student_categorical_col_list + student_numerical_col_list\n",
    "diabetes_x_tst = dict(d_test[feature_list])\n",
    "diabetes_yhat = diabetes_model(diabetes_x_tst)\n",
    "preds = diabetes_model.predict(diabetes_test_ds)"
   ]
  },
  {
   "cell_type": "code",
   "execution_count": 610,
   "metadata": {},
   "outputs": [],
   "source": [
    "def get_mean_std_from_preds(diabetes_yhat):\n",
    "    '''\n",
    "    diabetes_yhat: TF Probability prediction object\n",
    "    '''\n",
    "    m = diabetes_yhat.mean()\n",
    "    s = diabetes_yhat.stddev()\n",
    "    return m, s\n",
    "m, s = get_mean_std_from_preds(diabetes_yhat)"
   ]
  },
  {
   "cell_type": "markdown",
   "metadata": {},
   "source": [
    "## Show Prediction Output "
   ]
  },
  {
   "cell_type": "code",
   "execution_count": 611,
   "metadata": {},
   "outputs": [],
   "source": [
    "prob_outputs = {\n",
    "    \"pred\": preds.flatten(),\n",
    "    \"actual_value\": d_test['time_in_hospital'].values,\n",
    "    \"pred_mean\": m.numpy().flatten(),\n",
    "    \"pred_std\": s.numpy().flatten()\n",
    "}\n",
    "prob_output_df = pd.DataFrame(prob_outputs)"
   ]
  },
  {
   "cell_type": "code",
   "execution_count": 612,
   "metadata": {},
   "outputs": [
    {
     "data": {
      "text/html": [
       "<div>\n",
       "<style scoped>\n",
       "    .dataframe tbody tr th:only-of-type {\n",
       "        vertical-align: middle;\n",
       "    }\n",
       "\n",
       "    .dataframe tbody tr th {\n",
       "        vertical-align: top;\n",
       "    }\n",
       "\n",
       "    .dataframe thead th {\n",
       "        text-align: right;\n",
       "    }\n",
       "</style>\n",
       "<table border=\"1\" class=\"dataframe\">\n",
       "  <thead>\n",
       "    <tr style=\"text-align: right;\">\n",
       "      <th></th>\n",
       "      <th>pred</th>\n",
       "      <th>actual_value</th>\n",
       "      <th>pred_mean</th>\n",
       "      <th>pred_std</th>\n",
       "    </tr>\n",
       "  </thead>\n",
       "  <tbody>\n",
       "    <tr>\n",
       "      <th>0</th>\n",
       "      <td>0.367232</td>\n",
       "      <td>1.0</td>\n",
       "      <td>3.910275</td>\n",
       "      <td>0.697278</td>\n",
       "    </tr>\n",
       "    <tr>\n",
       "      <th>1</th>\n",
       "      <td>1.919002</td>\n",
       "      <td>7.0</td>\n",
       "      <td>4.927902</td>\n",
       "      <td>0.698507</td>\n",
       "    </tr>\n",
       "    <tr>\n",
       "      <th>2</th>\n",
       "      <td>2.063271</td>\n",
       "      <td>4.0</td>\n",
       "      <td>5.703865</td>\n",
       "      <td>0.698094</td>\n",
       "    </tr>\n",
       "    <tr>\n",
       "      <th>3</th>\n",
       "      <td>1.373518</td>\n",
       "      <td>12.0</td>\n",
       "      <td>7.117321</td>\n",
       "      <td>0.699561</td>\n",
       "    </tr>\n",
       "    <tr>\n",
       "      <th>4</th>\n",
       "      <td>3.421131</td>\n",
       "      <td>6.0</td>\n",
       "      <td>8.287244</td>\n",
       "      <td>0.699103</td>\n",
       "    </tr>\n",
       "  </tbody>\n",
       "</table>\n",
       "</div>"
      ],
      "text/plain": [
       "       pred  actual_value  pred_mean  pred_std\n",
       "0  0.367232  1.0           3.910275   0.697278\n",
       "1  1.919002  7.0           4.927902   0.698507\n",
       "2  2.063271  4.0           5.703865   0.698094\n",
       "3  1.373518  12.0          7.117321   0.699561\n",
       "4  3.421131  6.0           8.287244   0.699103"
      ]
     },
     "execution_count": 612,
     "metadata": {},
     "output_type": "execute_result"
    }
   ],
   "source": [
    "prob_output_df.head()"
   ]
  },
  {
   "cell_type": "markdown",
   "metadata": {},
   "source": [
    "## Convert Regression Output to Classification Output for Patient Selection"
   ]
  },
  {
   "cell_type": "markdown",
   "metadata": {},
   "source": [
    "**Question 10**: Given the output predictions, convert it to a binary label for whether the patient meets the time criteria or does not (HINT: use the mean prediction numpy array). The expected output is a numpy array with a 1 or 0 based off if the prediction meets or doesnt meet the criteria."
   ]
  },
  {
   "cell_type": "code",
   "execution_count": 613,
   "metadata": {},
   "outputs": [],
   "source": [
    "def get_student_binary_prediction(df, col):\n",
    "    '''\n",
    "    df: pandas dataframe prediction output dataframe\n",
    "    col: str,  probability mean prediction field\n",
    "    return:\n",
    "        student_binary_prediction: pandas dataframe converting input to flattened numpy array and binary labels\n",
    "    '''\n",
    "    student_binary_prediction = df[col].apply(lambda x : 1 if x >= 5 else 0)\n",
    "    return student_binary_prediction\n",
    "student_binary_prediction = get_student_binary_prediction(prob_output_df, 'pred_mean')"
   ]
  },
  {
   "cell_type": "markdown",
   "metadata": {},
   "source": [
    "### Add Binary Prediction to Test Dataframe"
   ]
  },
  {
   "cell_type": "markdown",
   "metadata": {},
   "source": [
    "Using the student_binary_prediction output that is a numpy array with binary labels, we can use this to add to a dataframe to better visualize and also to prepare the data for the Aequitas toolkit. The Aequitas toolkit requires that the predictions be mapped to a binary label for the predictions (called 'score' field) and the actual value (called 'label_value')."
   ]
  },
  {
   "cell_type": "code",
   "execution_count": 614,
   "metadata": {},
   "outputs": [],
   "source": [
    "def add_pred_to_test(test_df, pred_np, demo_col_list):\n",
    "    for c in demo_col_list:\n",
    "        test_df[c] = test_df[c].astype(str)\n",
    "    test_df['score'] = pred_np\n",
    "    test_df['label_value'] = test_df['time_in_hospital'].apply(lambda x: 1 if x >=5 else 0)\n",
    "    return test_df\n",
    "\n",
    "pred_test_df = add_pred_to_test(d_test, student_binary_prediction, ['race', 'gender'])"
   ]
  },
  {
   "cell_type": "code",
   "execution_count": 615,
   "metadata": {},
   "outputs": [
    {
     "data": {
      "text/html": [
       "<div>\n",
       "<style scoped>\n",
       "    .dataframe tbody tr th:only-of-type {\n",
       "        vertical-align: middle;\n",
       "    }\n",
       "\n",
       "    .dataframe tbody tr th {\n",
       "        vertical-align: top;\n",
       "    }\n",
       "\n",
       "    .dataframe thead th {\n",
       "        text-align: right;\n",
       "    }\n",
       "</style>\n",
       "<table border=\"1\" class=\"dataframe\">\n",
       "  <thead>\n",
       "    <tr style=\"text-align: right;\">\n",
       "      <th></th>\n",
       "      <th>patient_nbr</th>\n",
       "      <th>gender</th>\n",
       "      <th>race</th>\n",
       "      <th>time_in_hospital</th>\n",
       "      <th>score</th>\n",
       "      <th>label_value</th>\n",
       "    </tr>\n",
       "  </thead>\n",
       "  <tbody>\n",
       "    <tr>\n",
       "      <th>0</th>\n",
       "      <td>42519267</td>\n",
       "      <td>Male</td>\n",
       "      <td>Caucasian</td>\n",
       "      <td>1.0</td>\n",
       "      <td>0</td>\n",
       "      <td>0</td>\n",
       "    </tr>\n",
       "    <tr>\n",
       "      <th>1</th>\n",
       "      <td>85504905</td>\n",
       "      <td>Female</td>\n",
       "      <td>Caucasian</td>\n",
       "      <td>7.0</td>\n",
       "      <td>0</td>\n",
       "      <td>1</td>\n",
       "    </tr>\n",
       "    <tr>\n",
       "      <th>2</th>\n",
       "      <td>84259809</td>\n",
       "      <td>Male</td>\n",
       "      <td>Caucasian</td>\n",
       "      <td>4.0</td>\n",
       "      <td>1</td>\n",
       "      <td>0</td>\n",
       "    </tr>\n",
       "    <tr>\n",
       "      <th>3</th>\n",
       "      <td>86328819</td>\n",
       "      <td>Male</td>\n",
       "      <td>AfricanAmerican</td>\n",
       "      <td>12.0</td>\n",
       "      <td>1</td>\n",
       "      <td>1</td>\n",
       "    </tr>\n",
       "    <tr>\n",
       "      <th>4</th>\n",
       "      <td>40523301</td>\n",
       "      <td>Male</td>\n",
       "      <td>Caucasian</td>\n",
       "      <td>6.0</td>\n",
       "      <td>1</td>\n",
       "      <td>1</td>\n",
       "    </tr>\n",
       "  </tbody>\n",
       "</table>\n",
       "</div>"
      ],
      "text/plain": [
       "   patient_nbr  gender             race  time_in_hospital  score  label_value\n",
       "0  42519267     Male    Caucasian        1.0               0      0          \n",
       "1  85504905     Female  Caucasian        7.0               0      1          \n",
       "2  84259809     Male    Caucasian        4.0               1      0          \n",
       "3  86328819     Male    AfricanAmerican  12.0              1      1          \n",
       "4  40523301     Male    Caucasian        6.0               1      1          "
      ]
     },
     "execution_count": 615,
     "metadata": {},
     "output_type": "execute_result"
    }
   ],
   "source": [
    "pred_test_df[['patient_nbr', 'gender', 'race', 'time_in_hospital', 'score', 'label_value']].head()"
   ]
  },
  {
   "cell_type": "markdown",
   "metadata": {},
   "source": [
    "## Model Evaluation Metrics "
   ]
  },
  {
   "cell_type": "markdown",
   "metadata": {},
   "source": [
    "**Question 11**: Now it is time to use the newly created binary labels in the 'pred_test_df' dataframe to evaluate the model with some common classification metrics. Please create a report summary of the performance of the model and be sure to give the ROC AUC, F1 score(weighted), class precision and recall scores. "
   ]
  },
  {
   "cell_type": "markdown",
   "metadata": {},
   "source": [
    "For the report please be sure to include the following three parts:\n",
    "- With a non-technical audience in mind, explain the precision-recall tradeoff in regard to how you have optimized your model.\n",
    "\n",
    "- What are some areas of improvement for future iterations?"
   ]
  },
  {
   "cell_type": "markdown",
   "metadata": {},
   "source": [
    "### Precision-Recall Tradeoff\n",
    "\n",
    "* Tradeoff means increasing one parameter leads to decreasing of the other.\n",
    "* Precision is the fraction of correct positives among the total predicted positives.\n",
    "* Recall is the fraction of correct positives among the total positives in the dataset.\n",
    "* precision-recall tradeoff occur due to increasing one of the parameter(precision or recall) while keeping the model same.\n",
    "\n",
    "### Improvements\n",
    "\n",
    "* Recall seems to be quite low, so we can further try to improve the score."
   ]
  },
  {
   "cell_type": "code",
   "execution_count": 616,
   "metadata": {},
   "outputs": [
    {
     "name": "stdout",
     "output_type": "stream",
     "text": [
      "              precision    recall  f1-score   support\n",
      "\n",
      "           0       0.85      0.71      0.77      9063\n",
      "           1       0.61      0.78      0.68      5241\n",
      "\n",
      "    accuracy                           0.74     14304\n",
      "   macro avg       0.73      0.75      0.73     14304\n",
      "weighted avg       0.76      0.74      0.74     14304\n",
      "\n"
     ]
    }
   ],
   "source": [
    "# AUC, F1, precision and recall\n",
    "# Summary\n",
    "print(classification_report(pred_test_df['label_value'], pred_test_df['score']))"
   ]
  },
  {
   "cell_type": "code",
   "execution_count": 617,
   "metadata": {},
   "outputs": [
    {
     "data": {
      "text/plain": [
       "0.7414454470618712"
      ]
     },
     "execution_count": 617,
     "metadata": {},
     "output_type": "execute_result"
    }
   ],
   "source": [
    "f1_score(pred_test_df['label_value'], pred_test_df['score'], average='weighted')"
   ]
  },
  {
   "cell_type": "code",
   "execution_count": 618,
   "metadata": {},
   "outputs": [
    {
     "data": {
      "text/plain": [
       "0.7369267337807607"
      ]
     },
     "execution_count": 618,
     "metadata": {},
     "output_type": "execute_result"
    }
   ],
   "source": [
    "accuracy_score(pred_test_df['label_value'], pred_test_df['score'])"
   ]
  },
  {
   "cell_type": "code",
   "execution_count": 619,
   "metadata": {},
   "outputs": [
    {
     "data": {
      "text/plain": [
       "0.7453661360870144"
      ]
     },
     "execution_count": 619,
     "metadata": {},
     "output_type": "execute_result"
    }
   ],
   "source": [
    "roc_auc_score(pred_test_df['label_value'], pred_test_df['score'])"
   ]
  },
  {
   "cell_type": "code",
   "execution_count": 620,
   "metadata": {},
   "outputs": [
    {
     "data": {
      "text/plain": [
       "0.6108610861086109"
      ]
     },
     "execution_count": 620,
     "metadata": {},
     "output_type": "execute_result"
    }
   ],
   "source": [
    "precision_score(pred_test_df['label_value'], pred_test_df['score'])"
   ]
  },
  {
   "cell_type": "code",
   "execution_count": 621,
   "metadata": {},
   "outputs": [
    {
     "data": {
      "text/plain": [
       "0.7769509635565732"
      ]
     },
     "execution_count": 621,
     "metadata": {},
     "output_type": "execute_result"
    }
   ],
   "source": [
    "recall_score(pred_test_df['label_value'], pred_test_df['score'])"
   ]
  },
  {
   "cell_type": "markdown",
   "metadata": {},
   "source": [
    "# 7. Evaluating Potential Model Biases with Aequitas Toolkit"
   ]
  },
  {
   "cell_type": "markdown",
   "metadata": {},
   "source": [
    "## Prepare Data For Aequitas Bias Toolkit "
   ]
  },
  {
   "cell_type": "markdown",
   "metadata": {},
   "source": [
    "Using the gender and race fields, we will prepare the data for the Aequitas Toolkit."
   ]
  },
  {
   "cell_type": "code",
   "execution_count": 622,
   "metadata": {},
   "outputs": [
    {
     "name": "stderr",
     "output_type": "stream",
     "text": [
      "/opt/conda/lib/python3.7/site-packages/aequitas/group.py:143: SettingWithCopyWarning: \n",
      "A value is trying to be set on a copy of a slice from a DataFrame.\n",
      "Try using .loc[row_indexer,col_indexer] = value instead\n",
      "\n",
      "See the caveats in the documentation: http://pandas.pydata.org/pandas-docs/stable/user_guide/indexing.html#returning-a-view-versus-a-copy\n",
      "  df['score'] = df['score'].astype(float)\n"
     ]
    },
    {
     "name": "stdout",
     "output_type": "stream",
     "text": [
      "model_id, score_thresholds 1 {'rank_abs': [6666]}\n"
     ]
    }
   ],
   "source": [
    "# Aequitas\n",
    "from aequitas.preprocessing import preprocess_input_df\n",
    "from aequitas.group import Group\n",
    "from aequitas.plotting import Plot\n",
    "from aequitas.bias import Bias\n",
    "from aequitas.fairness import Fairness\n",
    "\n",
    "ae_subset_df = pred_test_df[['race', 'gender', 'score', 'label_value']]\n",
    "ae_df, _ = preprocess_input_df(ae_subset_df)\n",
    "g = Group()\n",
    "xtab, _ = g.get_crosstabs(ae_df)\n",
    "absolute_metrics = g.list_absolute_metrics(xtab)\n",
    "clean_xtab = xtab.fillna(-1)\n",
    "aqp = Plot()\n",
    "b = Bias()\n"
   ]
  },
  {
   "cell_type": "markdown",
   "metadata": {},
   "source": [
    "## Reference Group Selection"
   ]
  },
  {
   "cell_type": "markdown",
   "metadata": {},
   "source": [
    "Below we have chosen the reference group for our analysis but feel free to select another one."
   ]
  },
  {
   "cell_type": "code",
   "execution_count": 623,
   "metadata": {},
   "outputs": [
    {
     "name": "stdout",
     "output_type": "stream",
     "text": [
      "get_disparity_predefined_group()\n"
     ]
    }
   ],
   "source": [
    "# test reference group with Caucasian Male\n",
    "bdf = b.get_disparity_predefined_groups(clean_xtab, \n",
    "                    original_df=ae_df, \n",
    "                    ref_groups_dict={'race':'Caucasian', 'gender':'Male'\n",
    "                                     }, \n",
    "                    alpha=0.05, \n",
    "                    check_significance=False)\n",
    "\n",
    "\n",
    "f = Fairness()\n",
    "fdf = f.get_group_value_fairness(bdf)"
   ]
  },
  {
   "cell_type": "markdown",
   "metadata": {},
   "source": [
    "## Race and Gender Bias Analysis for Patient Selection"
   ]
  },
  {
   "cell_type": "markdown",
   "metadata": {},
   "source": [
    "**Question 12**: For the gender and race fields, please plot two metrics that are important for patient selection below and state whether there is a significant bias in your model across any of the groups along with justification for your statement."
   ]
  },
  {
   "cell_type": "code",
   "execution_count": 624,
   "metadata": {},
   "outputs": [],
   "source": [
    "# Plot two metrics\n",
    "# Is there significant bias in your model for either race or gender?"
   ]
  },
  {
   "cell_type": "code",
   "execution_count": 625,
   "metadata": {},
   "outputs": [
    {
     "data": {
      "text/plain": [
       "<matplotlib.axes._subplots.AxesSubplot at 0x7f7ff8ed47d0>"
      ]
     },
     "execution_count": 625,
     "metadata": {},
     "output_type": "execute_result"
    },
    {
     "data": {
      "image/png": "[encoded data removed]",
      "text/plain": [
       "<Figure size 720x360 with 1 Axes>"
      ]
     },
     "metadata": {
      "needs_background": "light"
     },
     "output_type": "display_data"
    }
   ],
   "source": [
    "aqp.plot_group_metric(clean_xtab, 'fpr', min_group_size=0.05)"
   ]
  },
  {
   "cell_type": "code",
   "execution_count": 626,
   "metadata": {},
   "outputs": [
    {
     "data": {
      "text/plain": [
       "<matplotlib.axes._subplots.AxesSubplot at 0x7f7ff8ed3f90>"
      ]
     },
     "execution_count": 626,
     "metadata": {},
     "output_type": "execute_result"
    },
    {
     "data": {
      "image/png": "[encoded data removed]",
      "text/plain": [
       "<Figure size 720x360 with 1 Axes>"
      ]
     },
     "metadata": {
      "needs_background": "light"
     },
     "output_type": "display_data"
    }
   ],
   "source": [
    "aqp.plot_group_metric(clean_xtab, 'tpr', min_group_size=0.05)"
   ]
  },
  {
   "cell_type": "code",
   "execution_count": 627,
   "metadata": {},
   "outputs": [
    {
     "data": {
      "text/plain": [
       "<matplotlib.axes._subplots.AxesSubplot at 0x7f7ff8f39f50>"
      ]
     },
     "execution_count": 627,
     "metadata": {},
     "output_type": "execute_result"
    },
    {
     "data": {
      "image/png": "[encoded data removed]",
      "text/plain": [
       "<Figure size 720x360 with 1 Axes>"
      ]
     },
     "metadata": {
      "needs_background": "light"
     },
     "output_type": "display_data"
    }
   ],
   "source": [
    "aqp.plot_group_metric(clean_xtab, 'fnr', min_group_size=0.05)"
   ]
  },
  {
   "cell_type": "code",
   "execution_count": 628,
   "metadata": {},
   "outputs": [
    {
     "data": {
      "text/plain": [
       "<matplotlib.axes._subplots.AxesSubplot at 0x7f7ff8faf690>"
      ]
     },
     "execution_count": 628,
     "metadata": {},
     "output_type": "execute_result"
    },
    {
     "data": {
      "image/png": "[encoded data removed]",
      "text/plain": [
       "<Figure size 720x360 with 1 Axes>"
      ]
     },
     "metadata": {
      "needs_background": "light"
     },
     "output_type": "display_data"
    }
   ],
   "source": [
    "aqp.plot_group_metric(clean_xtab, 'tnr', min_group_size=0.05)"
   ]
  },
  {
   "cell_type": "markdown",
   "metadata": {},
   "source": [
    "#### There isn't any significant bias in the model for either race or gender."
   ]
  },
  {
   "cell_type": "markdown",
   "metadata": {},
   "source": [
    "## Fairness Analysis Example - Relative to a Reference Group "
   ]
  },
  {
   "cell_type": "markdown",
   "metadata": {},
   "source": [
    "**Question 13**: Earlier we defined our reference group and then calculated disparity metrics relative to this grouping. Please provide a visualization of the fairness evaluation for this reference group and analyze whether there is disparity."
   ]
  },
  {
   "cell_type": "code",
   "execution_count": 629,
   "metadata": {},
   "outputs": [
    {
     "data": {
      "image/png": "[encoded data removed]",
      "text/plain": [
       "<Figure size 360x288 with 1 Axes>"
      ]
     },
     "metadata": {
      "needs_background": "light"
     },
     "output_type": "display_data"
    }
   ],
   "source": [
    "# Reference group fairness plot\n",
    "aqp.plot_fairness_disparity(bdf, group_metric='fnr', attribute_name='race', significance_alpha=0.05, min_group_size=0.05)"
   ]
  },
  {
   "cell_type": "code",
   "execution_count": 630,
   "metadata": {},
   "outputs": [
    {
     "data": {
      "image/png": "[encoded data removed]",
      "text/plain": [
       "<Figure size 360x288 with 1 Axes>"
      ]
     },
     "metadata": {
      "needs_background": "light"
     },
     "output_type": "display_data"
    }
   ],
   "source": [
    "aqp.plot_fairness_disparity(fdf, group_metric='fnr', attribute_name='gender', significance_alpha=0.05, min_group_size=0.05)"
   ]
  },
  {
   "cell_type": "code",
   "execution_count": 631,
   "metadata": {},
   "outputs": [
    {
     "data": {
      "image/png": "[encoded data removed]",
      "text/plain": [
       "<Figure size 360x288 with 1 Axes>"
      ]
     },
     "metadata": {
      "needs_background": "light"
     },
     "output_type": "display_data"
    }
   ],
   "source": [
    "aqp.plot_fairness_disparity(fdf, group_metric='fpr', attribute_name='race', significance_alpha=0.05, min_group_size=0.05)"
   ]
  },
  {
   "cell_type": "markdown",
   "metadata": {},
   "source": [
    "#### There isn't any disparity in the model for either race or gender."
   ]
  },
  {
   "cell_type": "code",
   "execution_count": 632,
   "metadata": {},
   "outputs": [
    {
     "data": {
      "text/plain": [
       "<matplotlib.axes._subplots.AxesSubplot at 0x7f7ff903ff50>"
      ]
     },
     "execution_count": 632,
     "metadata": {},
     "output_type": "execute_result"
    },
    {
     "data": {
      "image/png": "[encoded data removed]",
      "text/plain": [
       "<Figure size 720x360 with 1 Axes>"
      ]
     },
     "metadata": {
      "needs_background": "light"
     },
     "output_type": "display_data"
    }
   ],
   "source": [
    "aqp.plot_fairness_group(fdf, group_metric='fpr', title=True, min_group_size=0.05)"
   ]
  },
  {
   "cell_type": "code",
   "execution_count": 633,
   "metadata": {},
   "outputs": [
    {
     "data": {
      "text/plain": [
       "<matplotlib.axes._subplots.AxesSubplot at 0x7f7ff8f8b250>"
      ]
     },
     "execution_count": 633,
     "metadata": {},
     "output_type": "execute_result"
    },
    {
     "data": {
      "image/png": "[encoded data removed]",
      "text/plain": [
       "<Figure size 720x360 with 1 Axes>"
      ]
     },
     "metadata": {
      "needs_background": "light"
     },
     "output_type": "display_data"
    }
   ],
   "source": [
    "aqp.plot_fairness_group(fdf, group_metric='fnr', title=True)"
   ]
  },
  {
   "cell_type": "markdown",
   "metadata": {},
   "source": [
    "#### Nearly all races and gender seem to have the same probability of falsely non-identifying them. The model is unbiased towards race or gender."
   ]
  }
 ],
 "metadata": {
  "kernelspec": {
   "display_name": "Python 3",
   "language": "python",
   "name": "python3"
  },
  "language_info": {
   "codemirror_mode": {
    "name": "ipython",
    "version": 3
   },
   "file_extension": ".py",
   "mimetype": "text/x-python",
   "name": "python",
   "nbconvert_exporter": "python",
   "pygments_lexer": "ipython3",
   "version": "3.6.5"
  }
 },
 "nbformat": 4,
 "nbformat_minor": 2
}
